{
  "metadata": {
    "kernelspec": {
      "language": "python",
      "display_name": "Python 3",
      "name": "python3"
    },
    "language_info": {
      "name": "python",
      "version": "3.10.13",
      "mimetype": "text/x-python",
      "codemirror_mode": {
        "name": "ipython",
        "version": 3
      },
      "pygments_lexer": "ipython3",
      "nbconvert_exporter": "python",
      "file_extension": ".py"
    },
    "kaggle": {
      "accelerator": "none",
      "dataSources": [
        {
          "sourceId": 71485,
          "databundleVersionId": 8059942,
          "sourceType": "competition"
        }
      ],
      "dockerImageVersionId": 30698,
      "isInternetEnabled": false,
      "language": "python",
      "sourceType": "notebook",
      "isGpuEnabled": false
    },
    "colab": {
      "provenance": []
    },
    "widgets": {
      "application/vnd.jupyter.widget-state+json": {
        "5b9bfaa81d78468f934bac38cea2c799": {
          "model_module": "@jupyter-widgets/controls",
          "model_name": "HBoxModel",
          "model_module_version": "1.5.0",
          "state": {
            "_dom_classes": [],
            "_model_module": "@jupyter-widgets/controls",
            "_model_module_version": "1.5.0",
            "_model_name": "HBoxModel",
            "_view_count": null,
            "_view_module": "@jupyter-widgets/controls",
            "_view_module_version": "1.5.0",
            "_view_name": "HBoxView",
            "box_style": "",
            "children": [
              "IPY_MODEL_76bb9bdf3a57410bab245c6f5a9f5d09",
              "IPY_MODEL_54bc152df8134cbfa30bb282e1f2e271",
              "IPY_MODEL_5f1a916afe994db2beedba9bdb5e7da4"
            ],
            "layout": "IPY_MODEL_da57bdd6841f4e0aaaff3618bf0f6f90"
          }
        },
        "76bb9bdf3a57410bab245c6f5a9f5d09": {
          "model_module": "@jupyter-widgets/controls",
          "model_name": "HTMLModel",
          "model_module_version": "1.5.0",
          "state": {
            "_dom_classes": [],
            "_model_module": "@jupyter-widgets/controls",
            "_model_module_version": "1.5.0",
            "_model_name": "HTMLModel",
            "_view_count": null,
            "_view_module": "@jupyter-widgets/controls",
            "_view_module_version": "1.5.0",
            "_view_name": "HTMLView",
            "description": "",
            "description_tooltip": null,
            "layout": "IPY_MODEL_996ab2f30c5f4597ae63b0793b2c45a8",
            "placeholder": "​",
            "style": "IPY_MODEL_8824fbec42d04af7a1f77ac17e68dfcd",
            "value": "tokenizer_config.json: 100%"
          }
        },
        "54bc152df8134cbfa30bb282e1f2e271": {
          "model_module": "@jupyter-widgets/controls",
          "model_name": "FloatProgressModel",
          "model_module_version": "1.5.0",
          "state": {
            "_dom_classes": [],
            "_model_module": "@jupyter-widgets/controls",
            "_model_module_version": "1.5.0",
            "_model_name": "FloatProgressModel",
            "_view_count": null,
            "_view_module": "@jupyter-widgets/controls",
            "_view_module_version": "1.5.0",
            "_view_name": "ProgressView",
            "bar_style": "success",
            "description": "",
            "description_tooltip": null,
            "layout": "IPY_MODEL_6c8f6e07dd2340ceb8fe3adf8dabaf31",
            "max": 48,
            "min": 0,
            "orientation": "horizontal",
            "style": "IPY_MODEL_dc1af2eb336144909af00ff3c5820ad7",
            "value": 48
          }
        },
        "5f1a916afe994db2beedba9bdb5e7da4": {
          "model_module": "@jupyter-widgets/controls",
          "model_name": "HTMLModel",
          "model_module_version": "1.5.0",
          "state": {
            "_dom_classes": [],
            "_model_module": "@jupyter-widgets/controls",
            "_model_module_version": "1.5.0",
            "_model_name": "HTMLModel",
            "_view_count": null,
            "_view_module": "@jupyter-widgets/controls",
            "_view_module_version": "1.5.0",
            "_view_name": "HTMLView",
            "description": "",
            "description_tooltip": null,
            "layout": "IPY_MODEL_d5f68c0416c7423193b581fb6233bae8",
            "placeholder": "​",
            "style": "IPY_MODEL_990ceffd2c8d4a299eaf1c2d5273399e",
            "value": " 48.0/48.0 [00:00&lt;00:00, 866B/s]"
          }
        },
        "da57bdd6841f4e0aaaff3618bf0f6f90": {
          "model_module": "@jupyter-widgets/base",
          "model_name": "LayoutModel",
          "model_module_version": "1.2.0",
          "state": {
            "_model_module": "@jupyter-widgets/base",
            "_model_module_version": "1.2.0",
            "_model_name": "LayoutModel",
            "_view_count": null,
            "_view_module": "@jupyter-widgets/base",
            "_view_module_version": "1.2.0",
            "_view_name": "LayoutView",
            "align_content": null,
            "align_items": null,
            "align_self": null,
            "border": null,
            "bottom": null,
            "display": null,
            "flex": null,
            "flex_flow": null,
            "grid_area": null,
            "grid_auto_columns": null,
            "grid_auto_flow": null,
            "grid_auto_rows": null,
            "grid_column": null,
            "grid_gap": null,
            "grid_row": null,
            "grid_template_areas": null,
            "grid_template_columns": null,
            "grid_template_rows": null,
            "height": null,
            "justify_content": null,
            "justify_items": null,
            "left": null,
            "margin": null,
            "max_height": null,
            "max_width": null,
            "min_height": null,
            "min_width": null,
            "object_fit": null,
            "object_position": null,
            "order": null,
            "overflow": null,
            "overflow_x": null,
            "overflow_y": null,
            "padding": null,
            "right": null,
            "top": null,
            "visibility": null,
            "width": null
          }
        },
        "996ab2f30c5f4597ae63b0793b2c45a8": {
          "model_module": "@jupyter-widgets/base",
          "model_name": "LayoutModel",
          "model_module_version": "1.2.0",
          "state": {
            "_model_module": "@jupyter-widgets/base",
            "_model_module_version": "1.2.0",
            "_model_name": "LayoutModel",
            "_view_count": null,
            "_view_module": "@jupyter-widgets/base",
            "_view_module_version": "1.2.0",
            "_view_name": "LayoutView",
            "align_content": null,
            "align_items": null,
            "align_self": null,
            "border": null,
            "bottom": null,
            "display": null,
            "flex": null,
            "flex_flow": null,
            "grid_area": null,
            "grid_auto_columns": null,
            "grid_auto_flow": null,
            "grid_auto_rows": null,
            "grid_column": null,
            "grid_gap": null,
            "grid_row": null,
            "grid_template_areas": null,
            "grid_template_columns": null,
            "grid_template_rows": null,
            "height": null,
            "justify_content": null,
            "justify_items": null,
            "left": null,
            "margin": null,
            "max_height": null,
            "max_width": null,
            "min_height": null,
            "min_width": null,
            "object_fit": null,
            "object_position": null,
            "order": null,
            "overflow": null,
            "overflow_x": null,
            "overflow_y": null,
            "padding": null,
            "right": null,
            "top": null,
            "visibility": null,
            "width": null
          }
        },
        "8824fbec42d04af7a1f77ac17e68dfcd": {
          "model_module": "@jupyter-widgets/controls",
          "model_name": "DescriptionStyleModel",
          "model_module_version": "1.5.0",
          "state": {
            "_model_module": "@jupyter-widgets/controls",
            "_model_module_version": "1.5.0",
            "_model_name": "DescriptionStyleModel",
            "_view_count": null,
            "_view_module": "@jupyter-widgets/base",
            "_view_module_version": "1.2.0",
            "_view_name": "StyleView",
            "description_width": ""
          }
        },
        "6c8f6e07dd2340ceb8fe3adf8dabaf31": {
          "model_module": "@jupyter-widgets/base",
          "model_name": "LayoutModel",
          "model_module_version": "1.2.0",
          "state": {
            "_model_module": "@jupyter-widgets/base",
            "_model_module_version": "1.2.0",
            "_model_name": "LayoutModel",
            "_view_count": null,
            "_view_module": "@jupyter-widgets/base",
            "_view_module_version": "1.2.0",
            "_view_name": "LayoutView",
            "align_content": null,
            "align_items": null,
            "align_self": null,
            "border": null,
            "bottom": null,
            "display": null,
            "flex": null,
            "flex_flow": null,
            "grid_area": null,
            "grid_auto_columns": null,
            "grid_auto_flow": null,
            "grid_auto_rows": null,
            "grid_column": null,
            "grid_gap": null,
            "grid_row": null,
            "grid_template_areas": null,
            "grid_template_columns": null,
            "grid_template_rows": null,
            "height": null,
            "justify_content": null,
            "justify_items": null,
            "left": null,
            "margin": null,
            "max_height": null,
            "max_width": null,
            "min_height": null,
            "min_width": null,
            "object_fit": null,
            "object_position": null,
            "order": null,
            "overflow": null,
            "overflow_x": null,
            "overflow_y": null,
            "padding": null,
            "right": null,
            "top": null,
            "visibility": null,
            "width": null
          }
        },
        "dc1af2eb336144909af00ff3c5820ad7": {
          "model_module": "@jupyter-widgets/controls",
          "model_name": "ProgressStyleModel",
          "model_module_version": "1.5.0",
          "state": {
            "_model_module": "@jupyter-widgets/controls",
            "_model_module_version": "1.5.0",
            "_model_name": "ProgressStyleModel",
            "_view_count": null,
            "_view_module": "@jupyter-widgets/base",
            "_view_module_version": "1.2.0",
            "_view_name": "StyleView",
            "bar_color": null,
            "description_width": ""
          }
        },
        "d5f68c0416c7423193b581fb6233bae8": {
          "model_module": "@jupyter-widgets/base",
          "model_name": "LayoutModel",
          "model_module_version": "1.2.0",
          "state": {
            "_model_module": "@jupyter-widgets/base",
            "_model_module_version": "1.2.0",
            "_model_name": "LayoutModel",
            "_view_count": null,
            "_view_module": "@jupyter-widgets/base",
            "_view_module_version": "1.2.0",
            "_view_name": "LayoutView",
            "align_content": null,
            "align_items": null,
            "align_self": null,
            "border": null,
            "bottom": null,
            "display": null,
            "flex": null,
            "flex_flow": null,
            "grid_area": null,
            "grid_auto_columns": null,
            "grid_auto_flow": null,
            "grid_auto_rows": null,
            "grid_column": null,
            "grid_gap": null,
            "grid_row": null,
            "grid_template_areas": null,
            "grid_template_columns": null,
            "grid_template_rows": null,
            "height": null,
            "justify_content": null,
            "justify_items": null,
            "left": null,
            "margin": null,
            "max_height": null,
            "max_width": null,
            "min_height": null,
            "min_width": null,
            "object_fit": null,
            "object_position": null,
            "order": null,
            "overflow": null,
            "overflow_x": null,
            "overflow_y": null,
            "padding": null,
            "right": null,
            "top": null,
            "visibility": null,
            "width": null
          }
        },
        "990ceffd2c8d4a299eaf1c2d5273399e": {
          "model_module": "@jupyter-widgets/controls",
          "model_name": "DescriptionStyleModel",
          "model_module_version": "1.5.0",
          "state": {
            "_model_module": "@jupyter-widgets/controls",
            "_model_module_version": "1.5.0",
            "_model_name": "DescriptionStyleModel",
            "_view_count": null,
            "_view_module": "@jupyter-widgets/base",
            "_view_module_version": "1.2.0",
            "_view_name": "StyleView",
            "description_width": ""
          }
        },
        "f25453ed3afc4b42a2ba2746fc5aa04f": {
          "model_module": "@jupyter-widgets/controls",
          "model_name": "HBoxModel",
          "model_module_version": "1.5.0",
          "state": {
            "_dom_classes": [],
            "_model_module": "@jupyter-widgets/controls",
            "_model_module_version": "1.5.0",
            "_model_name": "HBoxModel",
            "_view_count": null,
            "_view_module": "@jupyter-widgets/controls",
            "_view_module_version": "1.5.0",
            "_view_name": "HBoxView",
            "box_style": "",
            "children": [
              "IPY_MODEL_2162ee4b8edd4a9db770f73ffcd77a19",
              "IPY_MODEL_53151e56af794ad784299466e7968fc9",
              "IPY_MODEL_2df59197b0ed48bcb103936669194f9e"
            ],
            "layout": "IPY_MODEL_d1e0c23ebda542f2bd5aa74cd64cb506"
          }
        },
        "2162ee4b8edd4a9db770f73ffcd77a19": {
          "model_module": "@jupyter-widgets/controls",
          "model_name": "HTMLModel",
          "model_module_version": "1.5.0",
          "state": {
            "_dom_classes": [],
            "_model_module": "@jupyter-widgets/controls",
            "_model_module_version": "1.5.0",
            "_model_name": "HTMLModel",
            "_view_count": null,
            "_view_module": "@jupyter-widgets/controls",
            "_view_module_version": "1.5.0",
            "_view_name": "HTMLView",
            "description": "",
            "description_tooltip": null,
            "layout": "IPY_MODEL_93e6f4d56cad47cc938d88707d5110bd",
            "placeholder": "​",
            "style": "IPY_MODEL_5838f0c365454ecaa2f944471fdcf1b9",
            "value": "vocab.txt: 100%"
          }
        },
        "53151e56af794ad784299466e7968fc9": {
          "model_module": "@jupyter-widgets/controls",
          "model_name": "FloatProgressModel",
          "model_module_version": "1.5.0",
          "state": {
            "_dom_classes": [],
            "_model_module": "@jupyter-widgets/controls",
            "_model_module_version": "1.5.0",
            "_model_name": "FloatProgressModel",
            "_view_count": null,
            "_view_module": "@jupyter-widgets/controls",
            "_view_module_version": "1.5.0",
            "_view_name": "ProgressView",
            "bar_style": "success",
            "description": "",
            "description_tooltip": null,
            "layout": "IPY_MODEL_8d37675703a9467796b5d9a1ad7bff2b",
            "max": 231508,
            "min": 0,
            "orientation": "horizontal",
            "style": "IPY_MODEL_9437287641e84854a2c07427d39da66d",
            "value": 231508
          }
        },
        "2df59197b0ed48bcb103936669194f9e": {
          "model_module": "@jupyter-widgets/controls",
          "model_name": "HTMLModel",
          "model_module_version": "1.5.0",
          "state": {
            "_dom_classes": [],
            "_model_module": "@jupyter-widgets/controls",
            "_model_module_version": "1.5.0",
            "_model_name": "HTMLModel",
            "_view_count": null,
            "_view_module": "@jupyter-widgets/controls",
            "_view_module_version": "1.5.0",
            "_view_name": "HTMLView",
            "description": "",
            "description_tooltip": null,
            "layout": "IPY_MODEL_d1a748a7af7243969eea054149347d1b",
            "placeholder": "​",
            "style": "IPY_MODEL_1921ea10b6274b3e9f6146b9b3ca8d4c",
            "value": " 232k/232k [00:00&lt;00:00, 2.85MB/s]"
          }
        },
        "d1e0c23ebda542f2bd5aa74cd64cb506": {
          "model_module": "@jupyter-widgets/base",
          "model_name": "LayoutModel",
          "model_module_version": "1.2.0",
          "state": {
            "_model_module": "@jupyter-widgets/base",
            "_model_module_version": "1.2.0",
            "_model_name": "LayoutModel",
            "_view_count": null,
            "_view_module": "@jupyter-widgets/base",
            "_view_module_version": "1.2.0",
            "_view_name": "LayoutView",
            "align_content": null,
            "align_items": null,
            "align_self": null,
            "border": null,
            "bottom": null,
            "display": null,
            "flex": null,
            "flex_flow": null,
            "grid_area": null,
            "grid_auto_columns": null,
            "grid_auto_flow": null,
            "grid_auto_rows": null,
            "grid_column": null,
            "grid_gap": null,
            "grid_row": null,
            "grid_template_areas": null,
            "grid_template_columns": null,
            "grid_template_rows": null,
            "height": null,
            "justify_content": null,
            "justify_items": null,
            "left": null,
            "margin": null,
            "max_height": null,
            "max_width": null,
            "min_height": null,
            "min_width": null,
            "object_fit": null,
            "object_position": null,
            "order": null,
            "overflow": null,
            "overflow_x": null,
            "overflow_y": null,
            "padding": null,
            "right": null,
            "top": null,
            "visibility": null,
            "width": null
          }
        },
        "93e6f4d56cad47cc938d88707d5110bd": {
          "model_module": "@jupyter-widgets/base",
          "model_name": "LayoutModel",
          "model_module_version": "1.2.0",
          "state": {
            "_model_module": "@jupyter-widgets/base",
            "_model_module_version": "1.2.0",
            "_model_name": "LayoutModel",
            "_view_count": null,
            "_view_module": "@jupyter-widgets/base",
            "_view_module_version": "1.2.0",
            "_view_name": "LayoutView",
            "align_content": null,
            "align_items": null,
            "align_self": null,
            "border": null,
            "bottom": null,
            "display": null,
            "flex": null,
            "flex_flow": null,
            "grid_area": null,
            "grid_auto_columns": null,
            "grid_auto_flow": null,
            "grid_auto_rows": null,
            "grid_column": null,
            "grid_gap": null,
            "grid_row": null,
            "grid_template_areas": null,
            "grid_template_columns": null,
            "grid_template_rows": null,
            "height": null,
            "justify_content": null,
            "justify_items": null,
            "left": null,
            "margin": null,
            "max_height": null,
            "max_width": null,
            "min_height": null,
            "min_width": null,
            "object_fit": null,
            "object_position": null,
            "order": null,
            "overflow": null,
            "overflow_x": null,
            "overflow_y": null,
            "padding": null,
            "right": null,
            "top": null,
            "visibility": null,
            "width": null
          }
        },
        "5838f0c365454ecaa2f944471fdcf1b9": {
          "model_module": "@jupyter-widgets/controls",
          "model_name": "DescriptionStyleModel",
          "model_module_version": "1.5.0",
          "state": {
            "_model_module": "@jupyter-widgets/controls",
            "_model_module_version": "1.5.0",
            "_model_name": "DescriptionStyleModel",
            "_view_count": null,
            "_view_module": "@jupyter-widgets/base",
            "_view_module_version": "1.2.0",
            "_view_name": "StyleView",
            "description_width": ""
          }
        },
        "8d37675703a9467796b5d9a1ad7bff2b": {
          "model_module": "@jupyter-widgets/base",
          "model_name": "LayoutModel",
          "model_module_version": "1.2.0",
          "state": {
            "_model_module": "@jupyter-widgets/base",
            "_model_module_version": "1.2.0",
            "_model_name": "LayoutModel",
            "_view_count": null,
            "_view_module": "@jupyter-widgets/base",
            "_view_module_version": "1.2.0",
            "_view_name": "LayoutView",
            "align_content": null,
            "align_items": null,
            "align_self": null,
            "border": null,
            "bottom": null,
            "display": null,
            "flex": null,
            "flex_flow": null,
            "grid_area": null,
            "grid_auto_columns": null,
            "grid_auto_flow": null,
            "grid_auto_rows": null,
            "grid_column": null,
            "grid_gap": null,
            "grid_row": null,
            "grid_template_areas": null,
            "grid_template_columns": null,
            "grid_template_rows": null,
            "height": null,
            "justify_content": null,
            "justify_items": null,
            "left": null,
            "margin": null,
            "max_height": null,
            "max_width": null,
            "min_height": null,
            "min_width": null,
            "object_fit": null,
            "object_position": null,
            "order": null,
            "overflow": null,
            "overflow_x": null,
            "overflow_y": null,
            "padding": null,
            "right": null,
            "top": null,
            "visibility": null,
            "width": null
          }
        },
        "9437287641e84854a2c07427d39da66d": {
          "model_module": "@jupyter-widgets/controls",
          "model_name": "ProgressStyleModel",
          "model_module_version": "1.5.0",
          "state": {
            "_model_module": "@jupyter-widgets/controls",
            "_model_module_version": "1.5.0",
            "_model_name": "ProgressStyleModel",
            "_view_count": null,
            "_view_module": "@jupyter-widgets/base",
            "_view_module_version": "1.2.0",
            "_view_name": "StyleView",
            "bar_color": null,
            "description_width": ""
          }
        },
        "d1a748a7af7243969eea054149347d1b": {
          "model_module": "@jupyter-widgets/base",
          "model_name": "LayoutModel",
          "model_module_version": "1.2.0",
          "state": {
            "_model_module": "@jupyter-widgets/base",
            "_model_module_version": "1.2.0",
            "_model_name": "LayoutModel",
            "_view_count": null,
            "_view_module": "@jupyter-widgets/base",
            "_view_module_version": "1.2.0",
            "_view_name": "LayoutView",
            "align_content": null,
            "align_items": null,
            "align_self": null,
            "border": null,
            "bottom": null,
            "display": null,
            "flex": null,
            "flex_flow": null,
            "grid_area": null,
            "grid_auto_columns": null,
            "grid_auto_flow": null,
            "grid_auto_rows": null,
            "grid_column": null,
            "grid_gap": null,
            "grid_row": null,
            "grid_template_areas": null,
            "grid_template_columns": null,
            "grid_template_rows": null,
            "height": null,
            "justify_content": null,
            "justify_items": null,
            "left": null,
            "margin": null,
            "max_height": null,
            "max_width": null,
            "min_height": null,
            "min_width": null,
            "object_fit": null,
            "object_position": null,
            "order": null,
            "overflow": null,
            "overflow_x": null,
            "overflow_y": null,
            "padding": null,
            "right": null,
            "top": null,
            "visibility": null,
            "width": null
          }
        },
        "1921ea10b6274b3e9f6146b9b3ca8d4c": {
          "model_module": "@jupyter-widgets/controls",
          "model_name": "DescriptionStyleModel",
          "model_module_version": "1.5.0",
          "state": {
            "_model_module": "@jupyter-widgets/controls",
            "_model_module_version": "1.5.0",
            "_model_name": "DescriptionStyleModel",
            "_view_count": null,
            "_view_module": "@jupyter-widgets/base",
            "_view_module_version": "1.2.0",
            "_view_name": "StyleView",
            "description_width": ""
          }
        },
        "0eb3962df4084b6d819e4ec4a332b00b": {
          "model_module": "@jupyter-widgets/controls",
          "model_name": "HBoxModel",
          "model_module_version": "1.5.0",
          "state": {
            "_dom_classes": [],
            "_model_module": "@jupyter-widgets/controls",
            "_model_module_version": "1.5.0",
            "_model_name": "HBoxModel",
            "_view_count": null,
            "_view_module": "@jupyter-widgets/controls",
            "_view_module_version": "1.5.0",
            "_view_name": "HBoxView",
            "box_style": "",
            "children": [
              "IPY_MODEL_a2da9655350348389d80ee69b3557e01",
              "IPY_MODEL_677d61c00cbe44678df4574352ec8fde",
              "IPY_MODEL_d6bddab46beb4b99a9fa832d72500894"
            ],
            "layout": "IPY_MODEL_d60d0f8da0084067a94381537c1707c4"
          }
        },
        "a2da9655350348389d80ee69b3557e01": {
          "model_module": "@jupyter-widgets/controls",
          "model_name": "HTMLModel",
          "model_module_version": "1.5.0",
          "state": {
            "_dom_classes": [],
            "_model_module": "@jupyter-widgets/controls",
            "_model_module_version": "1.5.0",
            "_model_name": "HTMLModel",
            "_view_count": null,
            "_view_module": "@jupyter-widgets/controls",
            "_view_module_version": "1.5.0",
            "_view_name": "HTMLView",
            "description": "",
            "description_tooltip": null,
            "layout": "IPY_MODEL_6d5c9950dcf5456a88a32dd6ee17ddae",
            "placeholder": "​",
            "style": "IPY_MODEL_82b63507b3b24339a9493070b3223eec",
            "value": "tokenizer.json: 100%"
          }
        },
        "677d61c00cbe44678df4574352ec8fde": {
          "model_module": "@jupyter-widgets/controls",
          "model_name": "FloatProgressModel",
          "model_module_version": "1.5.0",
          "state": {
            "_dom_classes": [],
            "_model_module": "@jupyter-widgets/controls",
            "_model_module_version": "1.5.0",
            "_model_name": "FloatProgressModel",
            "_view_count": null,
            "_view_module": "@jupyter-widgets/controls",
            "_view_module_version": "1.5.0",
            "_view_name": "ProgressView",
            "bar_style": "success",
            "description": "",
            "description_tooltip": null,
            "layout": "IPY_MODEL_3d993ee7562044ca9848505f1ec131ae",
            "max": 466062,
            "min": 0,
            "orientation": "horizontal",
            "style": "IPY_MODEL_00dc145c78254bcdaf7191f10e5138e0",
            "value": 466062
          }
        },
        "d6bddab46beb4b99a9fa832d72500894": {
          "model_module": "@jupyter-widgets/controls",
          "model_name": "HTMLModel",
          "model_module_version": "1.5.0",
          "state": {
            "_dom_classes": [],
            "_model_module": "@jupyter-widgets/controls",
            "_model_module_version": "1.5.0",
            "_model_name": "HTMLModel",
            "_view_count": null,
            "_view_module": "@jupyter-widgets/controls",
            "_view_module_version": "1.5.0",
            "_view_name": "HTMLView",
            "description": "",
            "description_tooltip": null,
            "layout": "IPY_MODEL_92f0a1f21e954ff8992cc9bc3ef0278e",
            "placeholder": "​",
            "style": "IPY_MODEL_0e9bacf200ff49aebbf09fff85683c87",
            "value": " 466k/466k [00:00&lt;00:00, 5.23MB/s]"
          }
        },
        "d60d0f8da0084067a94381537c1707c4": {
          "model_module": "@jupyter-widgets/base",
          "model_name": "LayoutModel",
          "model_module_version": "1.2.0",
          "state": {
            "_model_module": "@jupyter-widgets/base",
            "_model_module_version": "1.2.0",
            "_model_name": "LayoutModel",
            "_view_count": null,
            "_view_module": "@jupyter-widgets/base",
            "_view_module_version": "1.2.0",
            "_view_name": "LayoutView",
            "align_content": null,
            "align_items": null,
            "align_self": null,
            "border": null,
            "bottom": null,
            "display": null,
            "flex": null,
            "flex_flow": null,
            "grid_area": null,
            "grid_auto_columns": null,
            "grid_auto_flow": null,
            "grid_auto_rows": null,
            "grid_column": null,
            "grid_gap": null,
            "grid_row": null,
            "grid_template_areas": null,
            "grid_template_columns": null,
            "grid_template_rows": null,
            "height": null,
            "justify_content": null,
            "justify_items": null,
            "left": null,
            "margin": null,
            "max_height": null,
            "max_width": null,
            "min_height": null,
            "min_width": null,
            "object_fit": null,
            "object_position": null,
            "order": null,
            "overflow": null,
            "overflow_x": null,
            "overflow_y": null,
            "padding": null,
            "right": null,
            "top": null,
            "visibility": null,
            "width": null
          }
        },
        "6d5c9950dcf5456a88a32dd6ee17ddae": {
          "model_module": "@jupyter-widgets/base",
          "model_name": "LayoutModel",
          "model_module_version": "1.2.0",
          "state": {
            "_model_module": "@jupyter-widgets/base",
            "_model_module_version": "1.2.0",
            "_model_name": "LayoutModel",
            "_view_count": null,
            "_view_module": "@jupyter-widgets/base",
            "_view_module_version": "1.2.0",
            "_view_name": "LayoutView",
            "align_content": null,
            "align_items": null,
            "align_self": null,
            "border": null,
            "bottom": null,
            "display": null,
            "flex": null,
            "flex_flow": null,
            "grid_area": null,
            "grid_auto_columns": null,
            "grid_auto_flow": null,
            "grid_auto_rows": null,
            "grid_column": null,
            "grid_gap": null,
            "grid_row": null,
            "grid_template_areas": null,
            "grid_template_columns": null,
            "grid_template_rows": null,
            "height": null,
            "justify_content": null,
            "justify_items": null,
            "left": null,
            "margin": null,
            "max_height": null,
            "max_width": null,
            "min_height": null,
            "min_width": null,
            "object_fit": null,
            "object_position": null,
            "order": null,
            "overflow": null,
            "overflow_x": null,
            "overflow_y": null,
            "padding": null,
            "right": null,
            "top": null,
            "visibility": null,
            "width": null
          }
        },
        "82b63507b3b24339a9493070b3223eec": {
          "model_module": "@jupyter-widgets/controls",
          "model_name": "DescriptionStyleModel",
          "model_module_version": "1.5.0",
          "state": {
            "_model_module": "@jupyter-widgets/controls",
            "_model_module_version": "1.5.0",
            "_model_name": "DescriptionStyleModel",
            "_view_count": null,
            "_view_module": "@jupyter-widgets/base",
            "_view_module_version": "1.2.0",
            "_view_name": "StyleView",
            "description_width": ""
          }
        },
        "3d993ee7562044ca9848505f1ec131ae": {
          "model_module": "@jupyter-widgets/base",
          "model_name": "LayoutModel",
          "model_module_version": "1.2.0",
          "state": {
            "_model_module": "@jupyter-widgets/base",
            "_model_module_version": "1.2.0",
            "_model_name": "LayoutModel",
            "_view_count": null,
            "_view_module": "@jupyter-widgets/base",
            "_view_module_version": "1.2.0",
            "_view_name": "LayoutView",
            "align_content": null,
            "align_items": null,
            "align_self": null,
            "border": null,
            "bottom": null,
            "display": null,
            "flex": null,
            "flex_flow": null,
            "grid_area": null,
            "grid_auto_columns": null,
            "grid_auto_flow": null,
            "grid_auto_rows": null,
            "grid_column": null,
            "grid_gap": null,
            "grid_row": null,
            "grid_template_areas": null,
            "grid_template_columns": null,
            "grid_template_rows": null,
            "height": null,
            "justify_content": null,
            "justify_items": null,
            "left": null,
            "margin": null,
            "max_height": null,
            "max_width": null,
            "min_height": null,
            "min_width": null,
            "object_fit": null,
            "object_position": null,
            "order": null,
            "overflow": null,
            "overflow_x": null,
            "overflow_y": null,
            "padding": null,
            "right": null,
            "top": null,
            "visibility": null,
            "width": null
          }
        },
        "00dc145c78254bcdaf7191f10e5138e0": {
          "model_module": "@jupyter-widgets/controls",
          "model_name": "ProgressStyleModel",
          "model_module_version": "1.5.0",
          "state": {
            "_model_module": "@jupyter-widgets/controls",
            "_model_module_version": "1.5.0",
            "_model_name": "ProgressStyleModel",
            "_view_count": null,
            "_view_module": "@jupyter-widgets/base",
            "_view_module_version": "1.2.0",
            "_view_name": "StyleView",
            "bar_color": null,
            "description_width": ""
          }
        },
        "92f0a1f21e954ff8992cc9bc3ef0278e": {
          "model_module": "@jupyter-widgets/base",
          "model_name": "LayoutModel",
          "model_module_version": "1.2.0",
          "state": {
            "_model_module": "@jupyter-widgets/base",
            "_model_module_version": "1.2.0",
            "_model_name": "LayoutModel",
            "_view_count": null,
            "_view_module": "@jupyter-widgets/base",
            "_view_module_version": "1.2.0",
            "_view_name": "LayoutView",
            "align_content": null,
            "align_items": null,
            "align_self": null,
            "border": null,
            "bottom": null,
            "display": null,
            "flex": null,
            "flex_flow": null,
            "grid_area": null,
            "grid_auto_columns": null,
            "grid_auto_flow": null,
            "grid_auto_rows": null,
            "grid_column": null,
            "grid_gap": null,
            "grid_row": null,
            "grid_template_areas": null,
            "grid_template_columns": null,
            "grid_template_rows": null,
            "height": null,
            "justify_content": null,
            "justify_items": null,
            "left": null,
            "margin": null,
            "max_height": null,
            "max_width": null,
            "min_height": null,
            "min_width": null,
            "object_fit": null,
            "object_position": null,
            "order": null,
            "overflow": null,
            "overflow_x": null,
            "overflow_y": null,
            "padding": null,
            "right": null,
            "top": null,
            "visibility": null,
            "width": null
          }
        },
        "0e9bacf200ff49aebbf09fff85683c87": {
          "model_module": "@jupyter-widgets/controls",
          "model_name": "DescriptionStyleModel",
          "model_module_version": "1.5.0",
          "state": {
            "_model_module": "@jupyter-widgets/controls",
            "_model_module_version": "1.5.0",
            "_model_name": "DescriptionStyleModel",
            "_view_count": null,
            "_view_module": "@jupyter-widgets/base",
            "_view_module_version": "1.2.0",
            "_view_name": "StyleView",
            "description_width": ""
          }
        },
        "705d53a6b20f4d6caefced1c21574491": {
          "model_module": "@jupyter-widgets/controls",
          "model_name": "HBoxModel",
          "model_module_version": "1.5.0",
          "state": {
            "_dom_classes": [],
            "_model_module": "@jupyter-widgets/controls",
            "_model_module_version": "1.5.0",
            "_model_name": "HBoxModel",
            "_view_count": null,
            "_view_module": "@jupyter-widgets/controls",
            "_view_module_version": "1.5.0",
            "_view_name": "HBoxView",
            "box_style": "",
            "children": [
              "IPY_MODEL_edbef0d894604db6b4097583cde4c2dd",
              "IPY_MODEL_cf74b928d1864997a6b638bc877fe42a",
              "IPY_MODEL_a8d85c98c22c4e9cbf75c2359f64978f"
            ],
            "layout": "IPY_MODEL_3aa751f844a6427b8cae537803725c0a"
          }
        },
        "edbef0d894604db6b4097583cde4c2dd": {
          "model_module": "@jupyter-widgets/controls",
          "model_name": "HTMLModel",
          "model_module_version": "1.5.0",
          "state": {
            "_dom_classes": [],
            "_model_module": "@jupyter-widgets/controls",
            "_model_module_version": "1.5.0",
            "_model_name": "HTMLModel",
            "_view_count": null,
            "_view_module": "@jupyter-widgets/controls",
            "_view_module_version": "1.5.0",
            "_view_name": "HTMLView",
            "description": "",
            "description_tooltip": null,
            "layout": "IPY_MODEL_0e36630ab40340758da3ff511485aee1",
            "placeholder": "​",
            "style": "IPY_MODEL_c02f89c1a53d47939d9811a51cb40fc5",
            "value": "config.json: 100%"
          }
        },
        "cf74b928d1864997a6b638bc877fe42a": {
          "model_module": "@jupyter-widgets/controls",
          "model_name": "FloatProgressModel",
          "model_module_version": "1.5.0",
          "state": {
            "_dom_classes": [],
            "_model_module": "@jupyter-widgets/controls",
            "_model_module_version": "1.5.0",
            "_model_name": "FloatProgressModel",
            "_view_count": null,
            "_view_module": "@jupyter-widgets/controls",
            "_view_module_version": "1.5.0",
            "_view_name": "ProgressView",
            "bar_style": "success",
            "description": "",
            "description_tooltip": null,
            "layout": "IPY_MODEL_9a708242a5d94216b9e4b941e75199e4",
            "max": 570,
            "min": 0,
            "orientation": "horizontal",
            "style": "IPY_MODEL_14ab98a06f43438b997139297b045436",
            "value": 570
          }
        },
        "a8d85c98c22c4e9cbf75c2359f64978f": {
          "model_module": "@jupyter-widgets/controls",
          "model_name": "HTMLModel",
          "model_module_version": "1.5.0",
          "state": {
            "_dom_classes": [],
            "_model_module": "@jupyter-widgets/controls",
            "_model_module_version": "1.5.0",
            "_model_name": "HTMLModel",
            "_view_count": null,
            "_view_module": "@jupyter-widgets/controls",
            "_view_module_version": "1.5.0",
            "_view_name": "HTMLView",
            "description": "",
            "description_tooltip": null,
            "layout": "IPY_MODEL_c8e959a5af5b4a6497941e991a170e84",
            "placeholder": "​",
            "style": "IPY_MODEL_d0059810bfbe468f9f15cb6624cdb68d",
            "value": " 570/570 [00:00&lt;00:00, 13.0kB/s]"
          }
        },
        "3aa751f844a6427b8cae537803725c0a": {
          "model_module": "@jupyter-widgets/base",
          "model_name": "LayoutModel",
          "model_module_version": "1.2.0",
          "state": {
            "_model_module": "@jupyter-widgets/base",
            "_model_module_version": "1.2.0",
            "_model_name": "LayoutModel",
            "_view_count": null,
            "_view_module": "@jupyter-widgets/base",
            "_view_module_version": "1.2.0",
            "_view_name": "LayoutView",
            "align_content": null,
            "align_items": null,
            "align_self": null,
            "border": null,
            "bottom": null,
            "display": null,
            "flex": null,
            "flex_flow": null,
            "grid_area": null,
            "grid_auto_columns": null,
            "grid_auto_flow": null,
            "grid_auto_rows": null,
            "grid_column": null,
            "grid_gap": null,
            "grid_row": null,
            "grid_template_areas": null,
            "grid_template_columns": null,
            "grid_template_rows": null,
            "height": null,
            "justify_content": null,
            "justify_items": null,
            "left": null,
            "margin": null,
            "max_height": null,
            "max_width": null,
            "min_height": null,
            "min_width": null,
            "object_fit": null,
            "object_position": null,
            "order": null,
            "overflow": null,
            "overflow_x": null,
            "overflow_y": null,
            "padding": null,
            "right": null,
            "top": null,
            "visibility": null,
            "width": null
          }
        },
        "0e36630ab40340758da3ff511485aee1": {
          "model_module": "@jupyter-widgets/base",
          "model_name": "LayoutModel",
          "model_module_version": "1.2.0",
          "state": {
            "_model_module": "@jupyter-widgets/base",
            "_model_module_version": "1.2.0",
            "_model_name": "LayoutModel",
            "_view_count": null,
            "_view_module": "@jupyter-widgets/base",
            "_view_module_version": "1.2.0",
            "_view_name": "LayoutView",
            "align_content": null,
            "align_items": null,
            "align_self": null,
            "border": null,
            "bottom": null,
            "display": null,
            "flex": null,
            "flex_flow": null,
            "grid_area": null,
            "grid_auto_columns": null,
            "grid_auto_flow": null,
            "grid_auto_rows": null,
            "grid_column": null,
            "grid_gap": null,
            "grid_row": null,
            "grid_template_areas": null,
            "grid_template_columns": null,
            "grid_template_rows": null,
            "height": null,
            "justify_content": null,
            "justify_items": null,
            "left": null,
            "margin": null,
            "max_height": null,
            "max_width": null,
            "min_height": null,
            "min_width": null,
            "object_fit": null,
            "object_position": null,
            "order": null,
            "overflow": null,
            "overflow_x": null,
            "overflow_y": null,
            "padding": null,
            "right": null,
            "top": null,
            "visibility": null,
            "width": null
          }
        },
        "c02f89c1a53d47939d9811a51cb40fc5": {
          "model_module": "@jupyter-widgets/controls",
          "model_name": "DescriptionStyleModel",
          "model_module_version": "1.5.0",
          "state": {
            "_model_module": "@jupyter-widgets/controls",
            "_model_module_version": "1.5.0",
            "_model_name": "DescriptionStyleModel",
            "_view_count": null,
            "_view_module": "@jupyter-widgets/base",
            "_view_module_version": "1.2.0",
            "_view_name": "StyleView",
            "description_width": ""
          }
        },
        "9a708242a5d94216b9e4b941e75199e4": {
          "model_module": "@jupyter-widgets/base",
          "model_name": "LayoutModel",
          "model_module_version": "1.2.0",
          "state": {
            "_model_module": "@jupyter-widgets/base",
            "_model_module_version": "1.2.0",
            "_model_name": "LayoutModel",
            "_view_count": null,
            "_view_module": "@jupyter-widgets/base",
            "_view_module_version": "1.2.0",
            "_view_name": "LayoutView",
            "align_content": null,
            "align_items": null,
            "align_self": null,
            "border": null,
            "bottom": null,
            "display": null,
            "flex": null,
            "flex_flow": null,
            "grid_area": null,
            "grid_auto_columns": null,
            "grid_auto_flow": null,
            "grid_auto_rows": null,
            "grid_column": null,
            "grid_gap": null,
            "grid_row": null,
            "grid_template_areas": null,
            "grid_template_columns": null,
            "grid_template_rows": null,
            "height": null,
            "justify_content": null,
            "justify_items": null,
            "left": null,
            "margin": null,
            "max_height": null,
            "max_width": null,
            "min_height": null,
            "min_width": null,
            "object_fit": null,
            "object_position": null,
            "order": null,
            "overflow": null,
            "overflow_x": null,
            "overflow_y": null,
            "padding": null,
            "right": null,
            "top": null,
            "visibility": null,
            "width": null
          }
        },
        "14ab98a06f43438b997139297b045436": {
          "model_module": "@jupyter-widgets/controls",
          "model_name": "ProgressStyleModel",
          "model_module_version": "1.5.0",
          "state": {
            "_model_module": "@jupyter-widgets/controls",
            "_model_module_version": "1.5.0",
            "_model_name": "ProgressStyleModel",
            "_view_count": null,
            "_view_module": "@jupyter-widgets/base",
            "_view_module_version": "1.2.0",
            "_view_name": "StyleView",
            "bar_color": null,
            "description_width": ""
          }
        },
        "c8e959a5af5b4a6497941e991a170e84": {
          "model_module": "@jupyter-widgets/base",
          "model_name": "LayoutModel",
          "model_module_version": "1.2.0",
          "state": {
            "_model_module": "@jupyter-widgets/base",
            "_model_module_version": "1.2.0",
            "_model_name": "LayoutModel",
            "_view_count": null,
            "_view_module": "@jupyter-widgets/base",
            "_view_module_version": "1.2.0",
            "_view_name": "LayoutView",
            "align_content": null,
            "align_items": null,
            "align_self": null,
            "border": null,
            "bottom": null,
            "display": null,
            "flex": null,
            "flex_flow": null,
            "grid_area": null,
            "grid_auto_columns": null,
            "grid_auto_flow": null,
            "grid_auto_rows": null,
            "grid_column": null,
            "grid_gap": null,
            "grid_row": null,
            "grid_template_areas": null,
            "grid_template_columns": null,
            "grid_template_rows": null,
            "height": null,
            "justify_content": null,
            "justify_items": null,
            "left": null,
            "margin": null,
            "max_height": null,
            "max_width": null,
            "min_height": null,
            "min_width": null,
            "object_fit": null,
            "object_position": null,
            "order": null,
            "overflow": null,
            "overflow_x": null,
            "overflow_y": null,
            "padding": null,
            "right": null,
            "top": null,
            "visibility": null,
            "width": null
          }
        },
        "d0059810bfbe468f9f15cb6624cdb68d": {
          "model_module": "@jupyter-widgets/controls",
          "model_name": "DescriptionStyleModel",
          "model_module_version": "1.5.0",
          "state": {
            "_model_module": "@jupyter-widgets/controls",
            "_model_module_version": "1.5.0",
            "_model_name": "DescriptionStyleModel",
            "_view_count": null,
            "_view_module": "@jupyter-widgets/base",
            "_view_module_version": "1.2.0",
            "_view_name": "StyleView",
            "description_width": ""
          }
        },
        "a5044686de2243e89fcc389b871d8f51": {
          "model_module": "@jupyter-widgets/controls",
          "model_name": "HBoxModel",
          "model_module_version": "1.5.0",
          "state": {
            "_dom_classes": [],
            "_model_module": "@jupyter-widgets/controls",
            "_model_module_version": "1.5.0",
            "_model_name": "HBoxModel",
            "_view_count": null,
            "_view_module": "@jupyter-widgets/controls",
            "_view_module_version": "1.5.0",
            "_view_name": "HBoxView",
            "box_style": "",
            "children": [
              "IPY_MODEL_67127d74858b4927b90ef1558da04aa1",
              "IPY_MODEL_8382c143a618469a9b04a697984f1bac",
              "IPY_MODEL_557528a057e847dd8ad912e105ff3f55"
            ],
            "layout": "IPY_MODEL_695f840230a3473e92d7abc5d3345be7"
          }
        },
        "67127d74858b4927b90ef1558da04aa1": {
          "model_module": "@jupyter-widgets/controls",
          "model_name": "HTMLModel",
          "model_module_version": "1.5.0",
          "state": {
            "_dom_classes": [],
            "_model_module": "@jupyter-widgets/controls",
            "_model_module_version": "1.5.0",
            "_model_name": "HTMLModel",
            "_view_count": null,
            "_view_module": "@jupyter-widgets/controls",
            "_view_module_version": "1.5.0",
            "_view_name": "HTMLView",
            "description": "",
            "description_tooltip": null,
            "layout": "IPY_MODEL_ac5bed6737d442749b55a6837fcffcf0",
            "placeholder": "​",
            "style": "IPY_MODEL_d41cb29fc3da47f5a75a890f23c67d09",
            "value": "model.safetensors: 100%"
          }
        },
        "8382c143a618469a9b04a697984f1bac": {
          "model_module": "@jupyter-widgets/controls",
          "model_name": "FloatProgressModel",
          "model_module_version": "1.5.0",
          "state": {
            "_dom_classes": [],
            "_model_module": "@jupyter-widgets/controls",
            "_model_module_version": "1.5.0",
            "_model_name": "FloatProgressModel",
            "_view_count": null,
            "_view_module": "@jupyter-widgets/controls",
            "_view_module_version": "1.5.0",
            "_view_name": "ProgressView",
            "bar_style": "success",
            "description": "",
            "description_tooltip": null,
            "layout": "IPY_MODEL_f4617c5a29a847f29f1fa38db07c97bf",
            "max": 440449768,
            "min": 0,
            "orientation": "horizontal",
            "style": "IPY_MODEL_41e6b8b3f4924fa589ee6e25259ca913",
            "value": 440449768
          }
        },
        "557528a057e847dd8ad912e105ff3f55": {
          "model_module": "@jupyter-widgets/controls",
          "model_name": "HTMLModel",
          "model_module_version": "1.5.0",
          "state": {
            "_dom_classes": [],
            "_model_module": "@jupyter-widgets/controls",
            "_model_module_version": "1.5.0",
            "_model_name": "HTMLModel",
            "_view_count": null,
            "_view_module": "@jupyter-widgets/controls",
            "_view_module_version": "1.5.0",
            "_view_name": "HTMLView",
            "description": "",
            "description_tooltip": null,
            "layout": "IPY_MODEL_1f2ca1ac111d412a93ded6518ddfdbd8",
            "placeholder": "​",
            "style": "IPY_MODEL_854133a5ec8247d880d99e8a2fd86f7e",
            "value": " 440M/440M [00:06&lt;00:00, 86.3MB/s]"
          }
        },
        "695f840230a3473e92d7abc5d3345be7": {
          "model_module": "@jupyter-widgets/base",
          "model_name": "LayoutModel",
          "model_module_version": "1.2.0",
          "state": {
            "_model_module": "@jupyter-widgets/base",
            "_model_module_version": "1.2.0",
            "_model_name": "LayoutModel",
            "_view_count": null,
            "_view_module": "@jupyter-widgets/base",
            "_view_module_version": "1.2.0",
            "_view_name": "LayoutView",
            "align_content": null,
            "align_items": null,
            "align_self": null,
            "border": null,
            "bottom": null,
            "display": null,
            "flex": null,
            "flex_flow": null,
            "grid_area": null,
            "grid_auto_columns": null,
            "grid_auto_flow": null,
            "grid_auto_rows": null,
            "grid_column": null,
            "grid_gap": null,
            "grid_row": null,
            "grid_template_areas": null,
            "grid_template_columns": null,
            "grid_template_rows": null,
            "height": null,
            "justify_content": null,
            "justify_items": null,
            "left": null,
            "margin": null,
            "max_height": null,
            "max_width": null,
            "min_height": null,
            "min_width": null,
            "object_fit": null,
            "object_position": null,
            "order": null,
            "overflow": null,
            "overflow_x": null,
            "overflow_y": null,
            "padding": null,
            "right": null,
            "top": null,
            "visibility": null,
            "width": null
          }
        },
        "ac5bed6737d442749b55a6837fcffcf0": {
          "model_module": "@jupyter-widgets/base",
          "model_name": "LayoutModel",
          "model_module_version": "1.2.0",
          "state": {
            "_model_module": "@jupyter-widgets/base",
            "_model_module_version": "1.2.0",
            "_model_name": "LayoutModel",
            "_view_count": null,
            "_view_module": "@jupyter-widgets/base",
            "_view_module_version": "1.2.0",
            "_view_name": "LayoutView",
            "align_content": null,
            "align_items": null,
            "align_self": null,
            "border": null,
            "bottom": null,
            "display": null,
            "flex": null,
            "flex_flow": null,
            "grid_area": null,
            "grid_auto_columns": null,
            "grid_auto_flow": null,
            "grid_auto_rows": null,
            "grid_column": null,
            "grid_gap": null,
            "grid_row": null,
            "grid_template_areas": null,
            "grid_template_columns": null,
            "grid_template_rows": null,
            "height": null,
            "justify_content": null,
            "justify_items": null,
            "left": null,
            "margin": null,
            "max_height": null,
            "max_width": null,
            "min_height": null,
            "min_width": null,
            "object_fit": null,
            "object_position": null,
            "order": null,
            "overflow": null,
            "overflow_x": null,
            "overflow_y": null,
            "padding": null,
            "right": null,
            "top": null,
            "visibility": null,
            "width": null
          }
        },
        "d41cb29fc3da47f5a75a890f23c67d09": {
          "model_module": "@jupyter-widgets/controls",
          "model_name": "DescriptionStyleModel",
          "model_module_version": "1.5.0",
          "state": {
            "_model_module": "@jupyter-widgets/controls",
            "_model_module_version": "1.5.0",
            "_model_name": "DescriptionStyleModel",
            "_view_count": null,
            "_view_module": "@jupyter-widgets/base",
            "_view_module_version": "1.2.0",
            "_view_name": "StyleView",
            "description_width": ""
          }
        },
        "f4617c5a29a847f29f1fa38db07c97bf": {
          "model_module": "@jupyter-widgets/base",
          "model_name": "LayoutModel",
          "model_module_version": "1.2.0",
          "state": {
            "_model_module": "@jupyter-widgets/base",
            "_model_module_version": "1.2.0",
            "_model_name": "LayoutModel",
            "_view_count": null,
            "_view_module": "@jupyter-widgets/base",
            "_view_module_version": "1.2.0",
            "_view_name": "LayoutView",
            "align_content": null,
            "align_items": null,
            "align_self": null,
            "border": null,
            "bottom": null,
            "display": null,
            "flex": null,
            "flex_flow": null,
            "grid_area": null,
            "grid_auto_columns": null,
            "grid_auto_flow": null,
            "grid_auto_rows": null,
            "grid_column": null,
            "grid_gap": null,
            "grid_row": null,
            "grid_template_areas": null,
            "grid_template_columns": null,
            "grid_template_rows": null,
            "height": null,
            "justify_content": null,
            "justify_items": null,
            "left": null,
            "margin": null,
            "max_height": null,
            "max_width": null,
            "min_height": null,
            "min_width": null,
            "object_fit": null,
            "object_position": null,
            "order": null,
            "overflow": null,
            "overflow_x": null,
            "overflow_y": null,
            "padding": null,
            "right": null,
            "top": null,
            "visibility": null,
            "width": null
          }
        },
        "41e6b8b3f4924fa589ee6e25259ca913": {
          "model_module": "@jupyter-widgets/controls",
          "model_name": "ProgressStyleModel",
          "model_module_version": "1.5.0",
          "state": {
            "_model_module": "@jupyter-widgets/controls",
            "_model_module_version": "1.5.0",
            "_model_name": "ProgressStyleModel",
            "_view_count": null,
            "_view_module": "@jupyter-widgets/base",
            "_view_module_version": "1.2.0",
            "_view_name": "StyleView",
            "bar_color": null,
            "description_width": ""
          }
        },
        "1f2ca1ac111d412a93ded6518ddfdbd8": {
          "model_module": "@jupyter-widgets/base",
          "model_name": "LayoutModel",
          "model_module_version": "1.2.0",
          "state": {
            "_model_module": "@jupyter-widgets/base",
            "_model_module_version": "1.2.0",
            "_model_name": "LayoutModel",
            "_view_count": null,
            "_view_module": "@jupyter-widgets/base",
            "_view_module_version": "1.2.0",
            "_view_name": "LayoutView",
            "align_content": null,
            "align_items": null,
            "align_self": null,
            "border": null,
            "bottom": null,
            "display": null,
            "flex": null,
            "flex_flow": null,
            "grid_area": null,
            "grid_auto_columns": null,
            "grid_auto_flow": null,
            "grid_auto_rows": null,
            "grid_column": null,
            "grid_gap": null,
            "grid_row": null,
            "grid_template_areas": null,
            "grid_template_columns": null,
            "grid_template_rows": null,
            "height": null,
            "justify_content": null,
            "justify_items": null,
            "left": null,
            "margin": null,
            "max_height": null,
            "max_width": null,
            "min_height": null,
            "min_width": null,
            "object_fit": null,
            "object_position": null,
            "order": null,
            "overflow": null,
            "overflow_x": null,
            "overflow_y": null,
            "padding": null,
            "right": null,
            "top": null,
            "visibility": null,
            "width": null
          }
        },
        "854133a5ec8247d880d99e8a2fd86f7e": {
          "model_module": "@jupyter-widgets/controls",
          "model_name": "DescriptionStyleModel",
          "model_module_version": "1.5.0",
          "state": {
            "_model_module": "@jupyter-widgets/controls",
            "_model_module_version": "1.5.0",
            "_model_name": "DescriptionStyleModel",
            "_view_count": null,
            "_view_module": "@jupyter-widgets/base",
            "_view_module_version": "1.2.0",
            "_view_name": "StyleView",
            "description_width": ""
          }
        }
      }
    }
  },
  "nbformat_minor": 0,
  "nbformat": 4,
  "cells": [
    {
      "cell_type": "code",
      "source": [
        "# This Python 3 environment comes with many helpful analytics libraries installed\n",
        "# It is defined by the kaggle/python Docker image: https://github.com/kaggle/docker-python\n",
        "# For example, here's several helpful packages to load\n",
        "\n",
        "import os\n",
        "import numpy as np # linear algebra\n",
        "import pandas as pd # data processing, CSV file I/O (e.g. pd.read_csv)\n",
        "import matplotlib.pyplot as plt\n",
        "import seaborn as sns\n",
        "import random\n",
        "\n",
        "import string\n",
        "import re\n",
        "cmap = plt.cm.get_cmap('coolwarm')\n",
        "import warnings\n",
        "warnings.filterwarnings('ignore')\n",
        "\n",
        "\n",
        "\n",
        "# Use for pipeline\n",
        "from sklearn.compose import ColumnTransformer\n",
        "from sklearn.pipeline import Pipeline\n",
        "from sklearn.impute import SimpleImputer\n",
        "from sklearn.preprocessing import StandardScaler, OneHotEncoder\n",
        "from sklearn.metrics import cohen_kappa_score, f1_score\n",
        "\n",
        "from nltk.tokenize import word_tokenize\n",
        "import xgboost as xgb\n",
        "from xgboost import XGBRegressor\n",
        "from xgboost import XGBClassifier\n",
        "from sklearn import metrics\n",
        "from sklearn.model_selection import GridSearchCV, KFold, cross_val_score\n",
        "from sklearn.model_selection import train_test_split\n",
        "from sklearn.metrics import accuracy_score\n",
        "from sklearn.metrics import mean_squared_error\n",
        "from sklearn.feature_extraction.text import TfidfVectorizer\n",
        "# Input data files are available in the read-only \"../input/\" directory\n",
        "# For example, running this (by clicking run or pressing Shift+Enter) will list all files under the input directory\n",
        "\n",
        "for dirname, _, filenames in os.walk('/kaggle/input'):\n",
        "    for filename in filenames:\n",
        "        print(os.path.join(dirname, filename))\n",
        "\n",
        "# You can write up to 20GB to the current directory (/kaggle/working/) that gets preserved as output when you create a version using \"Save & Run All\"\n",
        "# You can also write temporary files to /kaggle/temp/, but they won't be saved outside of the current session"
      ],
      "metadata": {
        "_uuid": "8f2839f25d086af736a60e9eeb907d3b93b6e0e5",
        "_cell_guid": "b1076dfc-b9ad-4769-8c92-a6c4dae69d19",
        "execution": {
          "iopub.status.busy": "2024-05-28T07:56:59.397712Z",
          "iopub.execute_input": "2024-05-28T07:56:59.398249Z",
          "iopub.status.idle": "2024-05-28T07:56:59.418006Z",
          "shell.execute_reply.started": "2024-05-28T07:56:59.398181Z",
          "shell.execute_reply": "2024-05-28T07:56:59.416781Z"
        },
        "trusted": true,
        "id": "HBpmr2CsXYgC"
      },
      "execution_count": 16,
      "outputs": []
    },
    {
      "cell_type": "code",
      "source": [
        "import pandas as pd\n",
        "from transformers import BertTokenizer, BertModel\n",
        "import torch\n",
        "from sklearn.model_selection import train_test_split\n",
        "from sklearn.linear_model import LinearRegression\n",
        "from sklearn.metrics import mean_squared_error"
      ],
      "metadata": {
        "execution": {
          "iopub.status.busy": "2024-05-28T07:59:23.425842Z",
          "iopub.execute_input": "2024-05-28T07:59:23.426427Z",
          "iopub.status.idle": "2024-05-28T07:59:25.358230Z",
          "shell.execute_reply.started": "2024-05-28T07:59:23.426383Z",
          "shell.execute_reply": "2024-05-28T07:59:25.356319Z"
        },
        "trusted": true,
        "id": "f8UDFIoXXYgE"
      },
      "execution_count": 17,
      "outputs": []
    },
    {
      "cell_type": "code",
      "source": [
        "# df_train = pd.read_csv('/kaggle/input/learning-agency-lab-automated-essay-scoring-2/train.csv')\n",
        "# df_test = pd.read_csv('/kaggle/input/learning-agency-lab-automated-essay-scoring-2/test.csv')\n",
        "df_train = pd.read_csv('/content/train.csv')\n",
        "df_test = pd.read_csv('/content/test.csv')"
      ],
      "metadata": {
        "execution": {
          "iopub.status.busy": "2024-05-28T07:24:58.045983Z",
          "iopub.execute_input": "2024-05-28T07:24:58.046633Z",
          "iopub.status.idle": "2024-05-28T07:24:58.478802Z",
          "shell.execute_reply.started": "2024-05-28T07:24:58.046581Z",
          "shell.execute_reply": "2024-05-28T07:24:58.477426Z"
        },
        "trusted": true,
        "id": "fpJL2ET2XYgF"
      },
      "execution_count": 15,
      "outputs": []
    },
    {
      "cell_type": "code",
      "source": [
        "essay_id_dropped = df_train['essay_id']\n",
        "df_train = df_train.drop('essay_id', axis = 1)\n"
      ],
      "metadata": {
        "execution": {
          "iopub.status.busy": "2024-05-28T07:24:58.481501Z",
          "iopub.execute_input": "2024-05-28T07:24:58.482009Z",
          "iopub.status.idle": "2024-05-28T07:24:58.490371Z",
          "shell.execute_reply.started": "2024-05-28T07:24:58.481972Z",
          "shell.execute_reply": "2024-05-28T07:24:58.489288Z"
        },
        "trusted": true,
        "id": "I2bg6JLoXYgF"
      },
      "execution_count": 19,
      "outputs": []
    },
    {
      "cell_type": "code",
      "source": [
        "df_train['word_count'] = df_train['full_text'].apply(lambda x: len(x.split()))\n",
        "df_test['word_count'] = df_test['full_text'].apply(lambda x: len(x.split()))"
      ],
      "metadata": {
        "execution": {
          "iopub.status.busy": "2024-05-28T07:24:58.491616Z",
          "iopub.execute_input": "2024-05-28T07:24:58.491945Z",
          "iopub.status.idle": "2024-05-28T07:24:58.998354Z",
          "shell.execute_reply.started": "2024-05-28T07:24:58.491919Z",
          "shell.execute_reply": "2024-05-28T07:24:58.997270Z"
        },
        "trusted": true,
        "id": "dsJUbImhXYgF"
      },
      "execution_count": 21,
      "outputs": []
    },
    {
      "cell_type": "code",
      "source": [
        "df_train['essay_length'] = df_train['full_text'].str.len()\n",
        "df_test['essay_length'] = df_test['full_text'].str.len()"
      ],
      "metadata": {
        "execution": {
          "iopub.status.busy": "2024-05-28T07:24:59.000765Z",
          "iopub.execute_input": "2024-05-28T07:24:59.001117Z",
          "iopub.status.idle": "2024-05-28T07:24:59.024768Z",
          "shell.execute_reply.started": "2024-05-28T07:24:59.001088Z",
          "shell.execute_reply": "2024-05-28T07:24:59.023436Z"
        },
        "trusted": true,
        "id": "1MXBH9K8XYgF"
      },
      "execution_count": 20,
      "outputs": []
    },
    {
      "cell_type": "code",
      "source": [
        "df_train['sentences_count'] = df_train['full_text'].str.count(r'\\.')\n",
        "df_test['sentences_count'] = df_test['full_text'].str.count(r'\\.')"
      ],
      "metadata": {
        "execution": {
          "iopub.status.busy": "2024-05-28T07:24:59.026272Z",
          "iopub.execute_input": "2024-05-28T07:24:59.026610Z",
          "iopub.status.idle": "2024-05-28T07:24:59.097281Z",
          "shell.execute_reply.started": "2024-05-28T07:24:59.026583Z",
          "shell.execute_reply": "2024-05-28T07:24:59.096058Z"
        },
        "trusted": true,
        "id": "pMp2bhIAXYgF"
      },
      "execution_count": 22,
      "outputs": []
    },
    {
      "cell_type": "code",
      "source": [
        "df_train['paragraph_count'] = df_train['full_text'].str.count(r'\\n') + 1\n",
        "df_test['paragraph_count'] = df_test['full_text'].str.count(r'\\n') + 1"
      ],
      "metadata": {
        "execution": {
          "iopub.status.busy": "2024-05-28T07:24:59.101623Z",
          "iopub.execute_input": "2024-05-28T07:24:59.102042Z",
          "iopub.status.idle": "2024-05-28T07:24:59.154222Z",
          "shell.execute_reply.started": "2024-05-28T07:24:59.102010Z",
          "shell.execute_reply": "2024-05-28T07:24:59.152776Z"
        },
        "trusted": true,
        "id": "R-pC-2p4XYgG"
      },
      "execution_count": 23,
      "outputs": []
    },
    {
      "cell_type": "code",
      "source": [
        "df_train.info()"
      ],
      "metadata": {
        "execution": {
          "iopub.status.busy": "2024-05-28T07:24:59.155730Z",
          "iopub.execute_input": "2024-05-28T07:24:59.156115Z",
          "iopub.status.idle": "2024-05-28T07:24:59.171630Z",
          "shell.execute_reply.started": "2024-05-28T07:24:59.156084Z",
          "shell.execute_reply": "2024-05-28T07:24:59.170290Z"
        },
        "trusted": true,
        "id": "tEgNnSwSXYgG",
        "outputId": "d079bca6-9443-4a98-f932-1d5e1ea7bba0",
        "colab": {
          "base_uri": "https://localhost:8080/"
        }
      },
      "execution_count": 24,
      "outputs": [
        {
          "output_type": "stream",
          "name": "stdout",
          "text": [
            "<class 'pandas.core.frame.DataFrame'>\n",
            "RangeIndex: 17307 entries, 0 to 17306\n",
            "Data columns (total 6 columns):\n",
            " #   Column           Non-Null Count  Dtype \n",
            "---  ------           --------------  ----- \n",
            " 0   full_text        17307 non-null  object\n",
            " 1   score            17307 non-null  int64 \n",
            " 2   essay_length     17307 non-null  int64 \n",
            " 3   word_count       17307 non-null  int64 \n",
            " 4   sentences_count  17307 non-null  int64 \n",
            " 5   paragraph_count  17307 non-null  int64 \n",
            "dtypes: int64(5), object(1)\n",
            "memory usage: 811.4+ KB\n"
          ]
        }
      ]
    },
    {
      "cell_type": "code",
      "source": [
        "df_train"
      ],
      "metadata": {
        "execution": {
          "iopub.status.busy": "2024-05-28T07:24:59.173075Z",
          "iopub.execute_input": "2024-05-28T07:24:59.173439Z",
          "iopub.status.idle": "2024-05-28T07:24:59.192465Z",
          "shell.execute_reply.started": "2024-05-28T07:24:59.173410Z",
          "shell.execute_reply": "2024-05-28T07:24:59.191299Z"
        },
        "trusted": true,
        "id": "eJ1mdQXtXYgG",
        "outputId": "fc3b1fab-7b3e-4217-fd6b-92372e675bd1"
      },
      "execution_count": null,
      "outputs": [
        {
          "execution_count": 71,
          "output_type": "execute_result",
          "data": {
            "text/plain": "                                               full_text  score  word_count  \\\n0      Many people have car where they live. The thin...      3         498   \n1      I am a scientist at NASA that is discussing th...      3         332   \n2      People always wish they had the same technolog...      4         550   \n3      We all heard about Venus, the planet without a...      4         451   \n4      Dear, State Senator\\n\\nThis is a letter to arg...      3         373   \n...                                                  ...    ...         ...   \n17302  the story \" The Challenge of Exploing Venus \" ...      2         157   \n17303  Technology has changed a lot of ways that we l...      4         579   \n17304  If you don't like sitting around all day than ...      2         215   \n17305  In \"The Challenge of Exporing Venus,\" the auth...      1         231   \n17306  Venus is worthy place to study but dangerous. ...      2         155   \n\n       essay_length  sentences_count  paragraph_count  \n0              2677               13                1  \n1              1669               19                9  \n2              3077               24                7  \n3              2701               23                9  \n4              2208               15               11  \n...             ...              ...              ...  \n17302           856                9                5  \n17303          3354               28               11  \n17304          1122               15                5  \n17305          1427               11                1  \n17306           786               12                7  \n\n[17307 rows x 6 columns]",
            "text/html": "<div>\n<style scoped>\n    .dataframe tbody tr th:only-of-type {\n        vertical-align: middle;\n    }\n\n    .dataframe tbody tr th {\n        vertical-align: top;\n    }\n\n    .dataframe thead th {\n        text-align: right;\n    }\n</style>\n<table border=\"1\" class=\"dataframe\">\n  <thead>\n    <tr style=\"text-align: right;\">\n      <th></th>\n      <th>full_text</th>\n      <th>score</th>\n      <th>word_count</th>\n      <th>essay_length</th>\n      <th>sentences_count</th>\n      <th>paragraph_count</th>\n    </tr>\n  </thead>\n  <tbody>\n    <tr>\n      <th>0</th>\n      <td>Many people have car where they live. The thin...</td>\n      <td>3</td>\n      <td>498</td>\n      <td>2677</td>\n      <td>13</td>\n      <td>1</td>\n    </tr>\n    <tr>\n      <th>1</th>\n      <td>I am a scientist at NASA that is discussing th...</td>\n      <td>3</td>\n      <td>332</td>\n      <td>1669</td>\n      <td>19</td>\n      <td>9</td>\n    </tr>\n    <tr>\n      <th>2</th>\n      <td>People always wish they had the same technolog...</td>\n      <td>4</td>\n      <td>550</td>\n      <td>3077</td>\n      <td>24</td>\n      <td>7</td>\n    </tr>\n    <tr>\n      <th>3</th>\n      <td>We all heard about Venus, the planet without a...</td>\n      <td>4</td>\n      <td>451</td>\n      <td>2701</td>\n      <td>23</td>\n      <td>9</td>\n    </tr>\n    <tr>\n      <th>4</th>\n      <td>Dear, State Senator\\n\\nThis is a letter to arg...</td>\n      <td>3</td>\n      <td>373</td>\n      <td>2208</td>\n      <td>15</td>\n      <td>11</td>\n    </tr>\n    <tr>\n      <th>...</th>\n      <td>...</td>\n      <td>...</td>\n      <td>...</td>\n      <td>...</td>\n      <td>...</td>\n      <td>...</td>\n    </tr>\n    <tr>\n      <th>17302</th>\n      <td>the story \" The Challenge of Exploing Venus \" ...</td>\n      <td>2</td>\n      <td>157</td>\n      <td>856</td>\n      <td>9</td>\n      <td>5</td>\n    </tr>\n    <tr>\n      <th>17303</th>\n      <td>Technology has changed a lot of ways that we l...</td>\n      <td>4</td>\n      <td>579</td>\n      <td>3354</td>\n      <td>28</td>\n      <td>11</td>\n    </tr>\n    <tr>\n      <th>17304</th>\n      <td>If you don't like sitting around all day than ...</td>\n      <td>2</td>\n      <td>215</td>\n      <td>1122</td>\n      <td>15</td>\n      <td>5</td>\n    </tr>\n    <tr>\n      <th>17305</th>\n      <td>In \"The Challenge of Exporing Venus,\" the auth...</td>\n      <td>1</td>\n      <td>231</td>\n      <td>1427</td>\n      <td>11</td>\n      <td>1</td>\n    </tr>\n    <tr>\n      <th>17306</th>\n      <td>Venus is worthy place to study but dangerous. ...</td>\n      <td>2</td>\n      <td>155</td>\n      <td>786</td>\n      <td>12</td>\n      <td>7</td>\n    </tr>\n  </tbody>\n</table>\n<p>17307 rows × 6 columns</p>\n</div>"
          },
          "metadata": {}
        }
      ]
    },
    {
      "cell_type": "code",
      "source": [
        "df_train['full_text'][0]"
      ],
      "metadata": {
        "execution": {
          "iopub.status.busy": "2024-05-28T07:24:59.194025Z",
          "iopub.execute_input": "2024-05-28T07:24:59.194757Z",
          "iopub.status.idle": "2024-05-28T07:24:59.206945Z",
          "shell.execute_reply.started": "2024-05-28T07:24:59.194715Z",
          "shell.execute_reply": "2024-05-28T07:24:59.205677Z"
        },
        "trusted": true,
        "id": "2u2V3eveXYgG",
        "outputId": "b1f80cfc-2cc0-49b5-ecc9-afffc6549e90"
      },
      "execution_count": null,
      "outputs": [
        {
          "execution_count": 72,
          "output_type": "execute_result",
          "data": {
            "text/plain": "'Many people have car where they live. The thing they don\\'t know is that when you use a car alot of thing can happen\\xa0like you can get in accidet or\\xa0the smoke that the car has is bad to breath\\xa0on if someone is walk but in VAUBAN,Germany they dont have that proble because 70 percent of vauban\\'s families do not own cars,and 57 percent sold a car to move there. Street parkig ,driveways and home garages are forbidden\\xa0on the outskirts of freiburd that near the French and Swiss borders. You probaly won\\'t see a car in Vauban\\'s streets because they are completely \"car free\" but\\xa0If some that lives in VAUBAN that owns a car ownership is allowed,but there are only two places that you can park a large garages at the edge of the development,where a car owner buys a space but it not cheap to buy one they sell the space for you car for $40,000 along with a home. The vauban people completed this in 2006 ,they said that this an example of a growing trend in Europe,The untile states and some where else are suburban life from auto use this is called \"smart planning\". The current efforts to drastically reduce greenhouse gas emissions from tailes the passengee cars are responsible for 12 percent of greenhouse gas emissions in Europe and up to 50 percent in some car intensive in the United States. I honeslty think that good idea that they did that is Vaudan because that makes cities denser and better for walking and in VAUBAN there are 5,500 residents within a rectangular square mile. In the artical David Gold berg said that \"All of our development since World war 2 has been centered on the cars,and that will have to change\" and i think that was very true what David Gold said because alot thing we need cars to do we can go anyway were with out cars beacuse some people are a very lazy to walk to place thats why they alot of people use car and i think that it was a good idea that that they did that in VAUBAN so people can see how we really don\\'t need car to go to place from place because we can walk from were we need to go or we can ride bycles with out the use of a car. It good that they are doing that if you thik about your help the earth in way and thats a very good thing to. In the United states ,the Environmental protection Agency is promoting what is called \"car reduced\"communtunties,and the legislators are starting to act,if cautiously. Maany experts expect pubic transport serving suburbs to play a much larger role in a new six years federal transportation bill to approved this year. In previous bill,80 percent of appropriations have by law gone to highways and only 20 percent to other transports. There many good reason why they should do this.    '"
          },
          "metadata": {}
        }
      ]
    },
    {
      "cell_type": "code",
      "source": [
        "def removeHTML(x):\n",
        "    html=re.compile(r'<.*?>')\n",
        "    return html.sub(r'',x)"
      ],
      "metadata": {
        "execution": {
          "iopub.status.busy": "2024-05-28T07:24:59.211054Z",
          "iopub.execute_input": "2024-05-28T07:24:59.211506Z",
          "iopub.status.idle": "2024-05-28T07:24:59.218742Z",
          "shell.execute_reply.started": "2024-05-28T07:24:59.211471Z",
          "shell.execute_reply": "2024-05-28T07:24:59.217231Z"
        },
        "trusted": true,
        "id": "qNwjDhyZXYgG"
      },
      "execution_count": 25,
      "outputs": []
    },
    {
      "cell_type": "code",
      "source": [
        "def dataPreprocessing(x):\n",
        "    # Convert words to lowercase\n",
        "    x = x.lower()\n",
        "    # Remove HTML\n",
        "    x = removeHTML(x)\n",
        "    # Delete strings starting with @\n",
        "    x = re.sub(\"@\\w+\", '',x)\n",
        "    # Delete Numbers\n",
        "    x = re.sub(\"'\\d+\", '',x)\n",
        "    x = re.sub(\"\\d+\", '',x)\n",
        "    # Delete URL\n",
        "    x = re.sub(\"http\\w+\", '',x)\n",
        "    # Replace consecutive empty spaces with a single space character\n",
        "    x = re.sub(r\"\\s+\", \" \", x)\n",
        "    # Replace consecutive commas and periods with one comma and period character\n",
        "    x = re.sub(r\"\\.+\", \".\", x)\n",
        "    x = re.sub(r\"\\,+\", \",\", x)\n",
        "    # Remove empty characters at the beginning and end\n",
        "    x = x.strip()\n",
        "    return x"
      ],
      "metadata": {
        "execution": {
          "iopub.status.busy": "2024-05-28T07:24:59.220148Z",
          "iopub.execute_input": "2024-05-28T07:24:59.220552Z",
          "iopub.status.idle": "2024-05-28T07:24:59.230879Z",
          "shell.execute_reply.started": "2024-05-28T07:24:59.220520Z",
          "shell.execute_reply": "2024-05-28T07:24:59.229569Z"
        },
        "trusted": true,
        "id": "k3Sgr6ECXYgG"
      },
      "execution_count": 26,
      "outputs": []
    },
    {
      "cell_type": "code",
      "source": [
        "def preprocess_df(df: pd.DataFrame) -> pd.DataFrame:\n",
        "    df['word_count'] = df['full_text'].apply(lambda x: len(x.split()))\n",
        "\n",
        "    # Length\n",
        "    df['essay_length'] = df['full_text'].str.len()\n",
        "\n",
        "    # Sentences count\n",
        "    # Adding a new column 'sentences_count' that counts the sentences in 'full_text'\n",
        "    df['sentences_count'] = df['full_text'].str.count(r'\\.')\n",
        "\n",
        "    # Paragraph count\n",
        "    # Adding a new column 'paragraph_count' that counts the paragraphs in 'full_text'\n",
        "    df['paragraph_count'] = df['full_text'].str.count(r'\\n') + 1\n",
        "\n",
        "    df[\"text_tokens\"] = df[\"full_text\"].apply(lambda x: word_tokenize(x))\n",
        "    df[\"word_count\"] = df[\"text_tokens\"].apply(lambda x: len(x))\n",
        "    df[\"unique_word_count\"] = df[\"text_tokens\"].apply(lambda x: len(set(x)))\n",
        "\n",
        "    df[\"processed_text\"] = df[\"full_text\"].apply(lambda x: dataPreprocessing(x))\n",
        "    df[\"text_tokens\"] = df[\"processed_text\"].apply(lambda x: word_tokenize(x))\n",
        "    df[\"text_length_p\"] = df[\"processed_text\"].apply(lambda x: len(x))\n",
        "    df[\"word_count_p\"] = df[\"text_tokens\"].apply(lambda x: len(x))\n",
        "    df[\"unique_word_count_p\"] = df[\"text_tokens\"].apply(lambda x: len(set(x)))\n",
        "\n",
        "    df.drop(columns=[\"processed_text\", \"text_tokens\"], inplace=True)\n",
        "    return df"
      ],
      "metadata": {
        "execution": {
          "iopub.status.busy": "2024-05-28T07:24:59.232775Z",
          "iopub.execute_input": "2024-05-28T07:24:59.233168Z",
          "iopub.status.idle": "2024-05-28T07:24:59.245437Z",
          "shell.execute_reply.started": "2024-05-28T07:24:59.233138Z",
          "shell.execute_reply": "2024-05-28T07:24:59.244418Z"
        },
        "trusted": true,
        "id": "_RsUUtKEXYgH"
      },
      "execution_count": null,
      "outputs": []
    },
    {
      "cell_type": "code",
      "source": [
        "def clean_text(text):\n",
        "    text = re.sub(r'\\n', ' ', text)  # Loại bỏ xuống dòng\n",
        "    text = re.sub(r'[^\\w\\s]', '', text)  # Loại bỏ ký tự đặc biệt\n",
        "    text = re.sub(r'\\xa0', ' ', text)  # Chuyển thành chữ thường\n",
        "    return text"
      ],
      "metadata": {
        "execution": {
          "iopub.status.busy": "2024-05-28T07:24:59.246831Z",
          "iopub.execute_input": "2024-05-28T07:24:59.247413Z",
          "iopub.status.idle": "2024-05-28T07:24:59.261505Z",
          "shell.execute_reply.started": "2024-05-28T07:24:59.247379Z",
          "shell.execute_reply": "2024-05-28T07:24:59.260220Z"
        },
        "trusted": true,
        "id": "r1qLKG3kXYgH"
      },
      "execution_count": 27,
      "outputs": []
    },
    {
      "cell_type": "code",
      "source": [
        "# df_train = preprocess_df(df_train)\n",
        "df_train['clean_text'] = df_train['full_text'].apply(clean_text)\n",
        "df_train = df_train.drop('full_text', axis = 1)"
      ],
      "metadata": {
        "execution": {
          "iopub.status.busy": "2024-05-28T07:24:59.263527Z",
          "iopub.execute_input": "2024-05-28T07:24:59.264774Z",
          "iopub.status.idle": "2024-05-28T07:25:00.975370Z",
          "shell.execute_reply.started": "2024-05-28T07:24:59.264729Z",
          "shell.execute_reply": "2024-05-28T07:25:00.974081Z"
        },
        "trusted": true,
        "id": "6CNMo8gQXYgH"
      },
      "execution_count": 28,
      "outputs": []
    },
    {
      "cell_type": "code",
      "source": [
        "df_train.info()"
      ],
      "metadata": {
        "execution": {
          "iopub.status.busy": "2024-05-28T07:25:00.976819Z",
          "iopub.execute_input": "2024-05-28T07:25:00.977728Z",
          "iopub.status.idle": "2024-05-28T07:25:00.993127Z",
          "shell.execute_reply.started": "2024-05-28T07:25:00.977694Z",
          "shell.execute_reply": "2024-05-28T07:25:00.991950Z"
        },
        "trusted": true,
        "id": "NvfOA4WVXYgH",
        "outputId": "9e4d7f86-260a-4b43-99e2-284963d80387",
        "colab": {
          "base_uri": "https://localhost:8080/"
        }
      },
      "execution_count": 29,
      "outputs": [
        {
          "output_type": "stream",
          "name": "stdout",
          "text": [
            "<class 'pandas.core.frame.DataFrame'>\n",
            "RangeIndex: 17307 entries, 0 to 17306\n",
            "Data columns (total 6 columns):\n",
            " #   Column           Non-Null Count  Dtype \n",
            "---  ------           --------------  ----- \n",
            " 0   score            17307 non-null  int64 \n",
            " 1   essay_length     17307 non-null  int64 \n",
            " 2   word_count       17307 non-null  int64 \n",
            " 3   sentences_count  17307 non-null  int64 \n",
            " 4   paragraph_count  17307 non-null  int64 \n",
            " 5   clean_text       17307 non-null  object\n",
            "dtypes: int64(5), object(1)\n",
            "memory usage: 811.4+ KB\n"
          ]
        }
      ]
    },
    {
      "cell_type": "code",
      "source": [
        "# Lấy cột văn bản (clean_text) và cột điểm số (score)\n",
        "texts = df_train['clean_text'].tolist()\n",
        "scores = df_train['score'].tolist()"
      ],
      "metadata": {
        "execution": {
          "iopub.status.busy": "2024-05-28T07:25:00.994467Z",
          "iopub.execute_input": "2024-05-28T07:25:00.994833Z",
          "iopub.status.idle": "2024-05-28T07:25:01.002880Z",
          "shell.execute_reply.started": "2024-05-28T07:25:00.994805Z",
          "shell.execute_reply": "2024-05-28T07:25:01.001532Z"
        },
        "trusted": true,
        "id": "jan3dT9sXYgH"
      },
      "execution_count": 30,
      "outputs": []
    },
    {
      "cell_type": "code",
      "source": [
        "# Sử dụng BERT tokenizer\n",
        "tokenizer = BertTokenizer.from_pretrained('bert-base-uncased')\n",
        "\n",
        "# Tokenize các bài luận\n",
        "inputs = tokenizer(texts, return_tensors='pt', padding=True, truncation=True, max_length=512)"
      ],
      "metadata": {
        "id": "0iL_WGavXYgH",
        "outputId": "54b2699b-3276-46c6-e6fc-e9c1ed45fd8b",
        "colab": {
          "base_uri": "https://localhost:8080/",
          "height": 145,
          "referenced_widgets": [
            "5b9bfaa81d78468f934bac38cea2c799",
            "76bb9bdf3a57410bab245c6f5a9f5d09",
            "54bc152df8134cbfa30bb282e1f2e271",
            "5f1a916afe994db2beedba9bdb5e7da4",
            "da57bdd6841f4e0aaaff3618bf0f6f90",
            "996ab2f30c5f4597ae63b0793b2c45a8",
            "8824fbec42d04af7a1f77ac17e68dfcd",
            "6c8f6e07dd2340ceb8fe3adf8dabaf31",
            "dc1af2eb336144909af00ff3c5820ad7",
            "d5f68c0416c7423193b581fb6233bae8",
            "990ceffd2c8d4a299eaf1c2d5273399e",
            "f25453ed3afc4b42a2ba2746fc5aa04f",
            "2162ee4b8edd4a9db770f73ffcd77a19",
            "53151e56af794ad784299466e7968fc9",
            "2df59197b0ed48bcb103936669194f9e",
            "d1e0c23ebda542f2bd5aa74cd64cb506",
            "93e6f4d56cad47cc938d88707d5110bd",
            "5838f0c365454ecaa2f944471fdcf1b9",
            "8d37675703a9467796b5d9a1ad7bff2b",
            "9437287641e84854a2c07427d39da66d",
            "d1a748a7af7243969eea054149347d1b",
            "1921ea10b6274b3e9f6146b9b3ca8d4c",
            "0eb3962df4084b6d819e4ec4a332b00b",
            "a2da9655350348389d80ee69b3557e01",
            "677d61c00cbe44678df4574352ec8fde",
            "d6bddab46beb4b99a9fa832d72500894",
            "d60d0f8da0084067a94381537c1707c4",
            "6d5c9950dcf5456a88a32dd6ee17ddae",
            "82b63507b3b24339a9493070b3223eec",
            "3d993ee7562044ca9848505f1ec131ae",
            "00dc145c78254bcdaf7191f10e5138e0",
            "92f0a1f21e954ff8992cc9bc3ef0278e",
            "0e9bacf200ff49aebbf09fff85683c87",
            "705d53a6b20f4d6caefced1c21574491",
            "edbef0d894604db6b4097583cde4c2dd",
            "cf74b928d1864997a6b638bc877fe42a",
            "a8d85c98c22c4e9cbf75c2359f64978f",
            "3aa751f844a6427b8cae537803725c0a",
            "0e36630ab40340758da3ff511485aee1",
            "c02f89c1a53d47939d9811a51cb40fc5",
            "9a708242a5d94216b9e4b941e75199e4",
            "14ab98a06f43438b997139297b045436",
            "c8e959a5af5b4a6497941e991a170e84",
            "d0059810bfbe468f9f15cb6624cdb68d"
          ]
        }
      },
      "execution_count": 31,
      "outputs": [
        {
          "output_type": "display_data",
          "data": {
            "text/plain": [
              "tokenizer_config.json:   0%|          | 0.00/48.0 [00:00<?, ?B/s]"
            ],
            "application/vnd.jupyter.widget-view+json": {
              "version_major": 2,
              "version_minor": 0,
              "model_id": "5b9bfaa81d78468f934bac38cea2c799"
            }
          },
          "metadata": {}
        },
        {
          "output_type": "display_data",
          "data": {
            "text/plain": [
              "vocab.txt:   0%|          | 0.00/232k [00:00<?, ?B/s]"
            ],
            "application/vnd.jupyter.widget-view+json": {
              "version_major": 2,
              "version_minor": 0,
              "model_id": "f25453ed3afc4b42a2ba2746fc5aa04f"
            }
          },
          "metadata": {}
        },
        {
          "output_type": "display_data",
          "data": {
            "text/plain": [
              "tokenizer.json:   0%|          | 0.00/466k [00:00<?, ?B/s]"
            ],
            "application/vnd.jupyter.widget-view+json": {
              "version_major": 2,
              "version_minor": 0,
              "model_id": "0eb3962df4084b6d819e4ec4a332b00b"
            }
          },
          "metadata": {}
        },
        {
          "output_type": "display_data",
          "data": {
            "text/plain": [
              "config.json:   0%|          | 0.00/570 [00:00<?, ?B/s]"
            ],
            "application/vnd.jupyter.widget-view+json": {
              "version_major": 2,
              "version_minor": 0,
              "model_id": "705d53a6b20f4d6caefced1c21574491"
            }
          },
          "metadata": {}
        }
      ]
    },
    {
      "cell_type": "code",
      "source": [
        "# Sử dụng BERT model\n",
        "model = BertModel.from_pretrained('bert-base-uncased')\n",
        "\n",
        "# Tạo embedding cho các bài luận\n",
        "with torch.no_grad():\n",
        "    outputs = model(**inputs)\n",
        "    embeddings = outputs.last_hidden_state[:, 0, :].numpy()  # Lấy embedding từ token [CLS]"
      ],
      "metadata": {
        "id": "njrClInFZo9n",
        "outputId": "536775d2-e6c3-4107-acc5-1c96fafb9a35",
        "colab": {
          "base_uri": "https://localhost:8080/",
          "height": 49,
          "referenced_widgets": [
            "a5044686de2243e89fcc389b871d8f51",
            "67127d74858b4927b90ef1558da04aa1",
            "8382c143a618469a9b04a697984f1bac",
            "557528a057e847dd8ad912e105ff3f55",
            "695f840230a3473e92d7abc5d3345be7",
            "ac5bed6737d442749b55a6837fcffcf0",
            "d41cb29fc3da47f5a75a890f23c67d09",
            "f4617c5a29a847f29f1fa38db07c97bf",
            "41e6b8b3f4924fa589ee6e25259ca913",
            "1f2ca1ac111d412a93ded6518ddfdbd8",
            "854133a5ec8247d880d99e8a2fd86f7e"
          ]
        }
      },
      "execution_count": null,
      "outputs": [
        {
          "output_type": "display_data",
          "data": {
            "text/plain": [
              "model.safetensors:   0%|          | 0.00/440M [00:00<?, ?B/s]"
            ],
            "application/vnd.jupyter.widget-view+json": {
              "version_major": 2,
              "version_minor": 0,
              "model_id": "a5044686de2243e89fcc389b871d8f51"
            }
          },
          "metadata": {}
        }
      ]
    },
    {
      "cell_type": "code",
      "source": [
        "# Chia dữ liệu thành tập huấn luyện và tập kiểm tra\n",
        "X_train, X_test, y_train, y_test = train_test_split(embeddings, scores, test_size=0.2, random_state=42)\n",
        "\n",
        "# Khởi tạo và huấn luyện mô hình XGBoost\n",
        "xgb_model = XGBRegressor(objective='reg:squarederror', n_estimators=100, max_depth=5, learning_rate=0.1)\n",
        "xgb_model.fit(X_train, y_train)\n",
        "\n",
        "# Dự đoán điểm số trên tập kiểm tra\n",
        "y_pred = xgb_model.predict(X_test)\n",
        "\n",
        "# Đánh giá mô hình\n",
        "mse = mean_squared_error(y_test, y_pred)\n",
        "print(f'Mean Squared Error: {mse}')"
      ],
      "metadata": {
        "id": "4iq_ILToZ7kC"
      },
      "execution_count": null,
      "outputs": []
    }
  ]
}