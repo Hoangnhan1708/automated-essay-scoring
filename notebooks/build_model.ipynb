{
 "cells": [
  {
   "cell_type": "code",
   "execution_count": 1,
   "id": "f00d5ab0",
   "metadata": {
    "_cell_guid": "b1076dfc-b9ad-4769-8c92-a6c4dae69d19",
    "_uuid": "8f2839f25d086af736a60e9eeb907d3b93b6e0e5",
    "execution": {
     "iopub.execute_input": "2024-05-27T09:54:13.311418Z",
     "iopub.status.busy": "2024-05-27T09:54:13.310455Z",
     "iopub.status.idle": "2024-05-27T09:54:20.852228Z",
     "shell.execute_reply": "2024-05-27T09:54:20.851419Z"
    },
    "papermill": {
     "duration": 7.561049,
     "end_time": "2024-05-27T09:54:20.854750",
     "exception": false,
     "start_time": "2024-05-27T09:54:13.293701",
     "status": "completed"
    },
    "tags": []
   },
   "outputs": [
    {
     "name": "stderr",
     "output_type": "stream",
     "text": [
      "/tmp/ipykernel_18/698395524.py:13: MatplotlibDeprecationWarning: The get_cmap function was deprecated in Matplotlib 3.7 and will be removed two minor releases later. Use ``matplotlib.colormaps[name]`` or ``matplotlib.colormaps.get_cmap(obj)`` instead.\n",
      "  cmap = plt.cm.get_cmap('coolwarm')\n"
     ]
    },
    {
     "name": "stdout",
     "output_type": "stream",
     "text": [
      "/kaggle/input/learning-agency-lab-automated-essay-scoring-2/sample_submission.csv\n",
      "/kaggle/input/learning-agency-lab-automated-essay-scoring-2/train.csv\n",
      "/kaggle/input/learning-agency-lab-automated-essay-scoring-2/test.csv\n"
     ]
    }
   ],
   "source": [
    "# This Python 3 environment comes with many helpful analytics libraries installed\n",
    "# It is defined by the kaggle/python Docker image: https://github.com/kaggle/docker-python\n",
    "# For example, here's several helpful packages to load\n",
    "\n",
    "import os\n",
    "import numpy as np # linear algebra\n",
    "import pandas as pd # data processing, CSV file I/O (e.g. pd.read_csv)\n",
    "import matplotlib.pyplot as plt\n",
    "import seaborn as sns\n",
    "import random\n",
    "import torch\n",
    "import re\n",
    "cmap = plt.cm.get_cmap('coolwarm')\n",
    "import warnings\n",
    "warnings.filterwarnings('ignore')\n",
    "\n",
    "\n",
    "# Use for pipeline\n",
    "from sklearn.compose import ColumnTransformer\n",
    "from sklearn.pipeline import Pipeline\n",
    "from sklearn.impute import SimpleImputer\n",
    "from sklearn.preprocessing import StandardScaler, OneHotEncoder\n",
    "from sklearn.metrics import cohen_kappa_score, f1_score\n",
    "\n",
    "from nltk.tokenize import word_tokenize\n",
    "import xgboost as xgb\n",
    "from xgboost import XGBRegressor\n",
    "from xgboost import XGBClassifier \n",
    "from sklearn import metrics\n",
    "from sklearn.model_selection import GridSearchCV, KFold, cross_val_score\n",
    "from sklearn.model_selection import train_test_split \n",
    "from sklearn.metrics import accuracy_score\n",
    "from sklearn.metrics import mean_squared_error\n",
    "from sklearn.feature_extraction.text import TfidfVectorizer\n",
    "# Input data files are available in the read-only \"../input/\" directory\n",
    "# For example, running this (by clicking run or pressing Shift+Enter) will list all files under the input directory\n",
    "\n",
    "for dirname, _, filenames in os.walk('/kaggle/input'):\n",
    "    for filename in filenames:\n",
    "        print(os.path.join(dirname, filename))\n",
    "\n",
    "# You can write up to 20GB to the current directory (/kaggle/working/) that gets preserved as output when you create a version using \"Save & Run All\" \n",
    "# You can also write temporary files to /kaggle/temp/, but they won't be saved outside of the current session"
   ]
  },
  {
   "cell_type": "code",
   "execution_count": 2,
   "id": "54ce3c10",
   "metadata": {
    "execution": {
     "iopub.execute_input": "2024-05-27T09:54:20.875681Z",
     "iopub.status.busy": "2024-05-27T09:54:20.874660Z",
     "iopub.status.idle": "2024-05-27T09:54:21.850718Z",
     "shell.execute_reply": "2024-05-27T09:54:21.849661Z"
    },
    "papermill": {
     "duration": 0.98935,
     "end_time": "2024-05-27T09:54:21.853506",
     "exception": false,
     "start_time": "2024-05-27T09:54:20.864156",
     "status": "completed"
    },
    "tags": []
   },
   "outputs": [],
   "source": [
    "df_train = pd.read_csv('/kaggle/input/learning-agency-lab-automated-essay-scoring-2/train.csv')\n",
    "df_test = pd.read_csv('/kaggle/input/learning-agency-lab-automated-essay-scoring-2/test.csv')"
   ]
  },
  {
   "cell_type": "code",
   "execution_count": 3,
   "id": "3d823770",
   "metadata": {
    "execution": {
     "iopub.execute_input": "2024-05-27T09:54:21.873290Z",
     "iopub.status.busy": "2024-05-27T09:54:21.872528Z",
     "iopub.status.idle": "2024-05-27T09:54:21.910008Z",
     "shell.execute_reply": "2024-05-27T09:54:21.908805Z"
    },
    "papermill": {
     "duration": 0.050642,
     "end_time": "2024-05-27T09:54:21.912896",
     "exception": false,
     "start_time": "2024-05-27T09:54:21.862254",
     "status": "completed"
    },
    "tags": []
   },
   "outputs": [
    {
     "name": "stdout",
     "output_type": "stream",
     "text": [
      "<class 'pandas.core.frame.DataFrame'>\n",
      "RangeIndex: 17307 entries, 0 to 17306\n",
      "Data columns (total 2 columns):\n",
      " #   Column     Non-Null Count  Dtype \n",
      "---  ------     --------------  ----- \n",
      " 0   full_text  17307 non-null  object\n",
      " 1   score      17307 non-null  int64 \n",
      "dtypes: int64(1), object(1)\n",
      "memory usage: 270.5+ KB\n"
     ]
    }
   ],
   "source": [
    "essay_id_dropped = df_train['essay_id']\n",
    "df_train = df_train.drop('essay_id', axis = 1)\n",
    "df_train.info()"
   ]
  },
  {
   "cell_type": "code",
   "execution_count": 4,
   "id": "9a103d4d",
   "metadata": {
    "execution": {
     "iopub.execute_input": "2024-05-27T09:54:21.933161Z",
     "iopub.status.busy": "2024-05-27T09:54:21.931988Z",
     "iopub.status.idle": "2024-05-27T09:54:21.949450Z",
     "shell.execute_reply": "2024-05-27T09:54:21.948325Z"
    },
    "papermill": {
     "duration": 0.030133,
     "end_time": "2024-05-27T09:54:21.951985",
     "exception": false,
     "start_time": "2024-05-27T09:54:21.921852",
     "status": "completed"
    },
    "tags": []
   },
   "outputs": [
    {
     "data": {
      "text/html": [
       "<div>\n",
       "<style scoped>\n",
       "    .dataframe tbody tr th:only-of-type {\n",
       "        vertical-align: middle;\n",
       "    }\n",
       "\n",
       "    .dataframe tbody tr th {\n",
       "        vertical-align: top;\n",
       "    }\n",
       "\n",
       "    .dataframe thead th {\n",
       "        text-align: right;\n",
       "    }\n",
       "</style>\n",
       "<table border=\"1\" class=\"dataframe\">\n",
       "  <thead>\n",
       "    <tr style=\"text-align: right;\">\n",
       "      <th></th>\n",
       "      <th>full_text</th>\n",
       "      <th>score</th>\n",
       "    </tr>\n",
       "  </thead>\n",
       "  <tbody>\n",
       "    <tr>\n",
       "      <th>0</th>\n",
       "      <td>Many people have car where they live. The thin...</td>\n",
       "      <td>3</td>\n",
       "    </tr>\n",
       "    <tr>\n",
       "      <th>1</th>\n",
       "      <td>I am a scientist at NASA that is discussing th...</td>\n",
       "      <td>3</td>\n",
       "    </tr>\n",
       "    <tr>\n",
       "      <th>2</th>\n",
       "      <td>People always wish they had the same technolog...</td>\n",
       "      <td>4</td>\n",
       "    </tr>\n",
       "    <tr>\n",
       "      <th>3</th>\n",
       "      <td>We all heard about Venus, the planet without a...</td>\n",
       "      <td>4</td>\n",
       "    </tr>\n",
       "    <tr>\n",
       "      <th>4</th>\n",
       "      <td>Dear, State Senator\\n\\nThis is a letter to arg...</td>\n",
       "      <td>3</td>\n",
       "    </tr>\n",
       "  </tbody>\n",
       "</table>\n",
       "</div>"
      ],
      "text/plain": [
       "                                           full_text  score\n",
       "0  Many people have car where they live. The thin...      3\n",
       "1  I am a scientist at NASA that is discussing th...      3\n",
       "2  People always wish they had the same technolog...      4\n",
       "3  We all heard about Venus, the planet without a...      4\n",
       "4  Dear, State Senator\\n\\nThis is a letter to arg...      3"
      ]
     },
     "execution_count": 4,
     "metadata": {},
     "output_type": "execute_result"
    }
   ],
   "source": [
    "df_train.head(5)"
   ]
  },
  {
   "cell_type": "code",
   "execution_count": 5,
   "id": "3a73b02f",
   "metadata": {
    "execution": {
     "iopub.execute_input": "2024-05-27T09:54:21.972465Z",
     "iopub.status.busy": "2024-05-27T09:54:21.971972Z",
     "iopub.status.idle": "2024-05-27T09:54:22.008488Z",
     "shell.execute_reply": "2024-05-27T09:54:22.007343Z"
    },
    "papermill": {
     "duration": 0.050353,
     "end_time": "2024-05-27T09:54:22.011241",
     "exception": false,
     "start_time": "2024-05-27T09:54:21.960888",
     "status": "completed"
    },
    "tags": []
   },
   "outputs": [],
   "source": [
    "def removeHTML(x):\n",
    "    html=re.compile(r'<.*?>')\n",
    "    return html.sub(r'',x)\n",
    "\n",
    "\n",
    "cList = {\n",
    "    \"ain't\": \"am not\", \"aren't\": \"are not\", \"can't\": \"cannot\", \"can't've\": \"cannot have\", \"'cause\": \"because\", \"could've\": \"could have\",\n",
    "    \"couldn't\": \"could not\", \"couldn't've\": \"could not have\", \"didn't\": \"did not\", \"doesn't\": \"does not\", \"don't\": \"do not\", \"hadn't\": \"had not\",\n",
    "    \"hadn't've\": \"had not have\", \"hasn't\": \"has not\", \"haven't\": \"have not\", \n",
    "    # \"he'd\": \"he would\",  ## --> he had or he would\n",
    "    \"he'd've\": \"he would have\",\"he'll\": \"he will\", \"he'll've\": \"he will have\", \"he's\": \"he is\", \n",
    "    \"how'd\": \"how did\",\"how'd'y\": \"how do you\",\"how'll\": \"how will\",\"how's\": \"how is\",\n",
    "    # \"I'd\": \"I would\",   ## --> I had or I would\n",
    "    \"I'd've\": \"I would have\",\"I'll\": \"I will\",\"I'll've\": \"I will have\",\"I'm\": \"I am\",\"I've\": \"I have\",\"isn't\": \"is not\",\n",
    "    # \"it'd\": \"it had\",   ## --> It had or It would\n",
    "    \"it'd've\": \"it would have\",\"it'll\": \"it will\",\"it'll've\": \"it will have\",\"it's\": \"it is\",\n",
    "    \"let's\": \"let us\",\"ma'am\": \"madam\",\"mayn't\": \"may not\",\"might've\": \"might have\",\"mightn't\": \"might not\",\"mightn't've\": \"might not have\",\n",
    "    \"must've\": \"must have\",\"mustn't\": \"must not\",\"mustn't've\": \"must not have\",\n",
    "    \"needn't\": \"need not\",\"needn't've\": \"need not have\",\n",
    "    \"o'clock\": \"of the clock\",\n",
    "    \"oughtn't\": \"ought not\",\"oughtn't've\": \"ought not have\",\n",
    "    \"shan't\": \"shall not\",\"sha'n't\": \"shall not\",\"shan't've\": \"shall not have\",\n",
    "    # \"she'd\": \"she would\",   ## --> It had or It would\n",
    "    \"she'd've\": \"she would have\",\"she'll\": \"she will\",\"she'll've\": \"she will have\",\"she's\": \"she is\",\n",
    "    \"should've\": \"should have\",\"shouldn't\": \"should not\",\"shouldn't've\": \"should not have\",\n",
    "    \"so've\": \"so have\",\"so's\": \"so is\",\n",
    "    # \"that'd\": \"that would\",\n",
    "    \"that'd've\": \"that would have\",\"that's\": \"that is\",\n",
    "    # \"there'd\": \"there had\",\n",
    "    \"there'd've\": \"there would have\",\"there's\": \"there is\",\n",
    "    # \"they'd\": \"they would\",\n",
    "    \"they'd've\": \"they would have\",\"they'll\": \"they will\",\"they'll've\": \"they will have\",\"they're\": \"they are\",\"they've\": \"they have\",\n",
    "    \"to've\": \"to have\",\"wasn't\": \"was not\",\"weren't\": \"were not\",\n",
    "    # \"we'd\": \"we had\",\n",
    "    \"we'd've\": \"we would have\",\"we'll\": \"we will\",\"we'll've\": \"we will have\",\"we're\": \"we are\",\"we've\": \"we have\",\n",
    "    \"what'll\": \"what will\",\"what'll've\": \"what will have\",\"what're\": \"what are\",\"what's\": \"what is\",\"what've\": \"what have\",\n",
    "    \"when's\": \"when is\",\"when've\": \"when have\",\n",
    "    \"where'd\": \"where did\",\"where's\": \"where is\",\"where've\": \"where have\",\n",
    "    \"who'll\": \"who will\",\"who'll've\": \"who will have\",\"who's\": \"who is\",\"who've\": \"who have\",\"why's\": \"why is\",\"why've\": \"why have\",\n",
    "    \"will've\": \"will have\",\"won't\": \"will not\",\"won't've\": \"will not have\",\n",
    "    \"would've\": \"would have\",\"wouldn't\": \"would not\",\"wouldn't've\": \"would not have\",\n",
    "    \"y'all\": \"you all\",\"y'alls\": \"you alls\",\"y'all'd\": \"you all would\",\"y'all'd've\": \"you all would have\",\"y'all're\": \"you all are\",\n",
    "    \"y'all've\": \"you all have\",\"you'd\": \"you had\",\"you'd've\": \"you would have\",\"you'll\": \"you you will\",\"you'll've\": \"you you will have\",\n",
    "    \"you're\": \"you are\",  \"you've\": \"you have\"\n",
    "}\n",
    "c_re = re.compile('(%s)' % '|'.join(cList.keys()))\n",
    "\n",
    "def expandContractions(text):\n",
    "    def replace(match):\n",
    "        return cList[match.group(0)]\n",
    "    return c_re.sub(replace, text)\n",
    "\n",
    "def remove_punctuation(text):\n",
    "    \"\"\"\n",
    "    Remove all punctuation from the input text.\n",
    "    \n",
    "    Args:\n",
    "    - text (str): The input text.\n",
    "    \n",
    "    Returns:\n",
    "    - str: The text with punctuation removed.\n",
    "    \"\"\"\n",
    "    # string.punctuation\n",
    "    translator = str.maketrans('', '', string.punctuation)\n",
    "    return text.translate(translator)\n",
    "\n",
    "def dataPreprocessing(x):\n",
    "    # Convert words to lowercase\n",
    "    x = x.lower()\n",
    "    # Remove HTML\n",
    "    x = removeHTML(x)\n",
    "    # Delete strings starting with @\n",
    "    x = re.sub(\"@\\w+\", '',x)\n",
    "    # Delete Numbers\n",
    "    x = re.sub(\"'\\d+\", '',x)\n",
    "    x = re.sub(\"\\d+\", '',x)\n",
    "    # Delete URL\n",
    "    x = re.sub(\"http\\w+\", '',x)\n",
    "    # Replace consecutive empty spaces with a single space character\n",
    "    x = re.sub(r\"\\s+\", \" \", x)\n",
    "    # Replace consecutive commas and periods with one comma and period character\n",
    "    x = re.sub(r\"\\.+\", \".\", x)\n",
    "    x = re.sub(r\"\\,+\", \",\", x)\n",
    "    # Remove empty characters at the beginning and end\n",
    "    x = x.strip()\n",
    "    return x\n",
    "\n",
    "def dataPreprocessing_w_contract(x):\n",
    "    # Convert words to lowercase\n",
    "    x = x.lower()\n",
    "    # Remove HTML\n",
    "    x = removeHTML(x)\n",
    "    # Delete strings starting with @\n",
    "    x = re.sub(\"@\\w+\", '',x)\n",
    "    # Delete Numbers\n",
    "    x = re.sub(\"'\\d+\", '',x)\n",
    "    x = re.sub(\"\\d+\", '',x)\n",
    "    # Delete URL\n",
    "    x = re.sub(\"http\\w+\", '',x)\n",
    "    # Replace consecutive empty spaces with a single space character\n",
    "    x = re.sub(r\"\\s+\", \" \", x)\n",
    "    x = expandContractions(x)\n",
    "    # Replace consecutive commas and periods with one comma and period character\n",
    "    x = re.sub(r\"\\.+\", \".\", x)\n",
    "    x = re.sub(r\"\\,+\", \",\", x)\n",
    "    # Remove empty characters at the beginning and end\n",
    "    x = x.strip()\n",
    "    return x\n",
    "\n",
    "def dataPreprocessing_w_punct_remove(x):\n",
    "    # Convert words to lowercase\n",
    "    x = x.lower()\n",
    "    # Remove HTML\n",
    "    x = removeHTML(x)\n",
    "    # Delete strings starting with @\n",
    "    x = re.sub(\"@\\w+\", '',x)\n",
    "    # Delete Numbers\n",
    "    x = re.sub(\"'\\d+\", '',x)\n",
    "    x = re.sub(\"\\d+\", '',x)\n",
    "    # Delete URL\n",
    "    x = re.sub(\"http\\w+\", '',x)\n",
    "    # Replace consecutive empty spaces with a single space character\n",
    "    x = re.sub(r\"\\s+\", \" \", x)\n",
    "    # Replace consecutive commas and periods with one comma and period character\n",
    "    x = re.sub(r\"\\.+\", \".\", x)\n",
    "    x = re.sub(r\"\\,+\", \",\", x)\n",
    "    x = remove_punctuation(x)\n",
    "    # Remove empty characters at the beginning and end\n",
    "    x = x.strip()\n",
    "    return x\n",
    "\n",
    "def dataPreprocessing_w_contract_punct_remove(x):\n",
    "    # Convert words to lowercase\n",
    "    x = x.lower()\n",
    "    # Remove HTML\n",
    "    x = removeHTML(x)\n",
    "    # Delete strings starting with @\n",
    "    x = re.sub(\"@\\w+\", '',x)\n",
    "    # Delete Numbers\n",
    "    x = re.sub(\"'\\d+\", '',x)\n",
    "    x = re.sub(\"\\d+\", '',x)\n",
    "    # Delete URL\n",
    "    x = re.sub(\"http\\w+\", '',x)\n",
    "    # Replace consecutive empty spaces with a single space character\n",
    "    x = re.sub(r\"\\s+\", \" \", x)\n",
    "    x = expandContractions(x)\n",
    "    # Replace consecutive commas and periods with one comma and period character\n",
    "    x = re.sub(r\"\\.+\", \".\", x)\n",
    "    x = re.sub(r\"\\,+\", \",\", x)\n",
    "    x = remove_punctuation(x)\n",
    "    # Remove empty characters at the beginning and end\n",
    "    x = x.strip()\n",
    "    return x"
   ]
  },
  {
   "cell_type": "code",
   "execution_count": 6,
   "id": "37acc577",
   "metadata": {
    "execution": {
     "iopub.execute_input": "2024-05-27T09:54:22.032149Z",
     "iopub.status.busy": "2024-05-27T09:54:22.031013Z",
     "iopub.status.idle": "2024-05-27T09:54:22.044880Z",
     "shell.execute_reply": "2024-05-27T09:54:22.043641Z"
    },
    "papermill": {
     "duration": 0.027225,
     "end_time": "2024-05-27T09:54:22.047703",
     "exception": false,
     "start_time": "2024-05-27T09:54:22.020478",
     "status": "completed"
    },
    "tags": []
   },
   "outputs": [],
   "source": [
    "# Number of words\n",
    "import string\n",
    "def preprocess_df(df: pd.DataFrame) -> pd.DataFrame:\n",
    "    df['word_count'] = df['full_text'].apply(lambda x: len(x.split()))\n",
    "\n",
    "    # Length\n",
    "    df['essay_length'] = df['full_text'].str.len()\n",
    "\n",
    "    # Sentences count\n",
    "    # Adding a new column 'sentences_count' that counts the sentences in 'full_text'\n",
    "    df['sentences_count'] = df['full_text'].str.count(r'\\.')\n",
    "\n",
    "    # Paragraph count\n",
    "    # Adding a new column 'paragraph_count' that counts the paragraphs in 'full_text'\n",
    "    df['paragraph_count'] = df['full_text'].str.count(r'\\n') + 1\n",
    "    \n",
    "    df[\"text_tokens\"] = df[\"full_text\"].apply(lambda x: word_tokenize(x))\n",
    "    df[\"word_count\"] = df[\"text_tokens\"].apply(lambda x: len(x))\n",
    "    df[\"unique_word_count\"] = df[\"text_tokens\"].apply(lambda x: len(set(x)))\n",
    "    df.drop(columns=[\"text_tokens\"], inplace=True)\n",
    "    \n",
    "    df[\"processed_text\"] = df[\"full_text\"].apply(lambda x: dataPreprocessing(x))\n",
    "    df[\"text_tokens\"] = df[\"processed_text\"].apply(lambda x: word_tokenize(x))\n",
    "    df[\"text_length_p\"] = df[\"processed_text\"].apply(lambda x: len(x))\n",
    "    df[\"word_count_p\"] = df[\"text_tokens\"].apply(lambda x: len(x))\n",
    "    df[\"unique_word_count_p\"] = df[\"text_tokens\"].apply(lambda x: len(set(x)))\n",
    "    \n",
    "    df.drop(columns=[\"processed_text\", \"text_tokens\"], inplace=True)\n",
    "    return df\n",
    "\n",
    "def clean_text(text):\n",
    "    text = re.sub(r'\\n', ' ', text)  # Loại bỏ xuống dòng\n",
    "    text = re.sub(r'[^\\w\\s]', '', text)  # Loại bỏ ký tự đặc biệt\n",
    "    text = text.lower()  # Chuyển thành chữ thường\n",
    "    return text"
   ]
  },
  {
   "cell_type": "code",
   "execution_count": 7,
   "id": "d623a5ff",
   "metadata": {
    "execution": {
     "iopub.execute_input": "2024-05-27T09:54:22.067739Z",
     "iopub.status.busy": "2024-05-27T09:54:22.067337Z",
     "iopub.status.idle": "2024-05-27T09:57:38.070894Z",
     "shell.execute_reply": "2024-05-27T09:57:38.069648Z"
    },
    "papermill": {
     "duration": 196.017257,
     "end_time": "2024-05-27T09:57:38.074076",
     "exception": false,
     "start_time": "2024-05-27T09:54:22.056819",
     "status": "completed"
    },
    "tags": []
   },
   "outputs": [],
   "source": [
    "df_train = preprocess_df(df_train)\n",
    "df_train['clean_text'] = df_train['full_text'].apply(clean_text)\n",
    "df_train = df_train.drop('full_text', axis = 1)"
   ]
  },
  {
   "cell_type": "code",
   "execution_count": 8,
   "id": "043815dd",
   "metadata": {
    "execution": {
     "iopub.execute_input": "2024-05-27T09:57:38.095645Z",
     "iopub.status.busy": "2024-05-27T09:57:38.095209Z",
     "iopub.status.idle": "2024-05-27T09:57:38.114191Z",
     "shell.execute_reply": "2024-05-27T09:57:38.112873Z"
    },
    "papermill": {
     "duration": 0.032271,
     "end_time": "2024-05-27T09:57:38.116928",
     "exception": false,
     "start_time": "2024-05-27T09:57:38.084657",
     "status": "completed"
    },
    "tags": []
   },
   "outputs": [
    {
     "data": {
      "text/html": [
       "<div>\n",
       "<style scoped>\n",
       "    .dataframe tbody tr th:only-of-type {\n",
       "        vertical-align: middle;\n",
       "    }\n",
       "\n",
       "    .dataframe tbody tr th {\n",
       "        vertical-align: top;\n",
       "    }\n",
       "\n",
       "    .dataframe thead th {\n",
       "        text-align: right;\n",
       "    }\n",
       "</style>\n",
       "<table border=\"1\" class=\"dataframe\">\n",
       "  <thead>\n",
       "    <tr style=\"text-align: right;\">\n",
       "      <th></th>\n",
       "      <th>score</th>\n",
       "      <th>word_count</th>\n",
       "      <th>essay_length</th>\n",
       "      <th>sentences_count</th>\n",
       "      <th>paragraph_count</th>\n",
       "      <th>unique_word_count</th>\n",
       "      <th>text_length_p</th>\n",
       "      <th>word_count_p</th>\n",
       "      <th>unique_word_count_p</th>\n",
       "      <th>clean_text</th>\n",
       "    </tr>\n",
       "  </thead>\n",
       "  <tbody>\n",
       "    <tr>\n",
       "      <th>0</th>\n",
       "      <td>3</td>\n",
       "      <td>545</td>\n",
       "      <td>2677</td>\n",
       "      <td>13</td>\n",
       "      <td>1</td>\n",
       "      <td>248</td>\n",
       "      <td>2640</td>\n",
       "      <td>539</td>\n",
       "      <td>227</td>\n",
       "      <td>many people have car where they live the thing...</td>\n",
       "    </tr>\n",
       "    <tr>\n",
       "      <th>1</th>\n",
       "      <td>3</td>\n",
       "      <td>371</td>\n",
       "      <td>1669</td>\n",
       "      <td>19</td>\n",
       "      <td>9</td>\n",
       "      <td>168</td>\n",
       "      <td>1663</td>\n",
       "      <td>371</td>\n",
       "      <td>152</td>\n",
       "      <td>i am a scientist at nasa that is discussing th...</td>\n",
       "    </tr>\n",
       "    <tr>\n",
       "      <th>2</th>\n",
       "      <td>4</td>\n",
       "      <td>605</td>\n",
       "      <td>3077</td>\n",
       "      <td>24</td>\n",
       "      <td>7</td>\n",
       "      <td>243</td>\n",
       "      <td>3065</td>\n",
       "      <td>605</td>\n",
       "      <td>231</td>\n",
       "      <td>people always wish they had the same technolog...</td>\n",
       "    </tr>\n",
       "    <tr>\n",
       "      <th>3</th>\n",
       "      <td>4</td>\n",
       "      <td>511</td>\n",
       "      <td>2701</td>\n",
       "      <td>23</td>\n",
       "      <td>9</td>\n",
       "      <td>241</td>\n",
       "      <td>2674</td>\n",
       "      <td>502</td>\n",
       "      <td>223</td>\n",
       "      <td>we all heard about venus the planet without al...</td>\n",
       "    </tr>\n",
       "    <tr>\n",
       "      <th>4</th>\n",
       "      <td>3</td>\n",
       "      <td>418</td>\n",
       "      <td>2208</td>\n",
       "      <td>15</td>\n",
       "      <td>11</td>\n",
       "      <td>156</td>\n",
       "      <td>2184</td>\n",
       "      <td>417</td>\n",
       "      <td>148</td>\n",
       "      <td>dear state senator  this is a letter to argue ...</td>\n",
       "    </tr>\n",
       "  </tbody>\n",
       "</table>\n",
       "</div>"
      ],
      "text/plain": [
       "   score  word_count  essay_length  sentences_count  paragraph_count  \\\n",
       "0      3         545          2677               13                1   \n",
       "1      3         371          1669               19                9   \n",
       "2      4         605          3077               24                7   \n",
       "3      4         511          2701               23                9   \n",
       "4      3         418          2208               15               11   \n",
       "\n",
       "   unique_word_count  text_length_p  word_count_p  unique_word_count_p  \\\n",
       "0                248           2640           539                  227   \n",
       "1                168           1663           371                  152   \n",
       "2                243           3065           605                  231   \n",
       "3                241           2674           502                  223   \n",
       "4                156           2184           417                  148   \n",
       "\n",
       "                                          clean_text  \n",
       "0  many people have car where they live the thing...  \n",
       "1  i am a scientist at nasa that is discussing th...  \n",
       "2  people always wish they had the same technolog...  \n",
       "3  we all heard about venus the planet without al...  \n",
       "4  dear state senator  this is a letter to argue ...  "
      ]
     },
     "execution_count": 8,
     "metadata": {},
     "output_type": "execute_result"
    }
   ],
   "source": [
    "df_train.head(5)"
   ]
  },
  {
   "cell_type": "code",
   "execution_count": 9,
   "id": "4252b613",
   "metadata": {
    "execution": {
     "iopub.execute_input": "2024-05-27T09:57:38.138050Z",
     "iopub.status.busy": "2024-05-27T09:57:38.137673Z",
     "iopub.status.idle": "2024-05-27T09:57:38.154696Z",
     "shell.execute_reply": "2024-05-27T09:57:38.153382Z"
    },
    "papermill": {
     "duration": 0.030726,
     "end_time": "2024-05-27T09:57:38.157181",
     "exception": false,
     "start_time": "2024-05-27T09:57:38.126455",
     "status": "completed"
    },
    "tags": []
   },
   "outputs": [
    {
     "name": "stdout",
     "output_type": "stream",
     "text": [
      "<class 'pandas.core.frame.DataFrame'>\n",
      "RangeIndex: 17307 entries, 0 to 17306\n",
      "Data columns (total 10 columns):\n",
      " #   Column               Non-Null Count  Dtype \n",
      "---  ------               --------------  ----- \n",
      " 0   score                17307 non-null  int64 \n",
      " 1   word_count           17307 non-null  int64 \n",
      " 2   essay_length         17307 non-null  int64 \n",
      " 3   sentences_count      17307 non-null  int64 \n",
      " 4   paragraph_count      17307 non-null  int64 \n",
      " 5   unique_word_count    17307 non-null  int64 \n",
      " 6   text_length_p        17307 non-null  int64 \n",
      " 7   word_count_p         17307 non-null  int64 \n",
      " 8   unique_word_count_p  17307 non-null  int64 \n",
      " 9   clean_text           17307 non-null  object\n",
      "dtypes: int64(9), object(1)\n",
      "memory usage: 1.3+ MB\n"
     ]
    }
   ],
   "source": [
    "df_train.info()"
   ]
  },
  {
   "cell_type": "code",
   "execution_count": 10,
   "id": "5f3c6763",
   "metadata": {
    "execution": {
     "iopub.execute_input": "2024-05-27T09:57:38.178170Z",
     "iopub.status.busy": "2024-05-27T09:57:38.177729Z",
     "iopub.status.idle": "2024-05-27T09:57:38.182780Z",
     "shell.execute_reply": "2024-05-27T09:57:38.181400Z"
    },
    "papermill": {
     "duration": 0.018566,
     "end_time": "2024-05-27T09:57:38.185242",
     "exception": false,
     "start_time": "2024-05-27T09:57:38.166676",
     "status": "completed"
    },
    "tags": []
   },
   "outputs": [],
   "source": [
    "# rows_to_drop = df_train.query('sentences_count > 60 | (sentences_count > 50 & score == 1)').index\n",
    "\n",
    "# # Xóa các dòng có index tương ứng\n",
    "\n",
    "# df_train.drop(rows_to_drop, inplace=True)"
   ]
  },
  {
   "cell_type": "code",
   "execution_count": 11,
   "id": "e9897d9e",
   "metadata": {
    "execution": {
     "iopub.execute_input": "2024-05-27T09:57:38.206903Z",
     "iopub.status.busy": "2024-05-27T09:57:38.206515Z",
     "iopub.status.idle": "2024-05-27T09:57:38.211619Z",
     "shell.execute_reply": "2024-05-27T09:57:38.210355Z"
    },
    "papermill": {
     "duration": 0.018767,
     "end_time": "2024-05-27T09:57:38.214138",
     "exception": false,
     "start_time": "2024-05-27T09:57:38.195371",
     "status": "completed"
    },
    "tags": []
   },
   "outputs": [],
   "source": [
    "# rows_to_drop = df_train.query('paragraph_count > 80 | (paragraph_count > 55 & score == 1 ) | (paragraph_count >60 & score == 2 ) | (paragraph_count > 30  & score == 5) | (paragraph_count > 25  & score == 6)').index\n",
    "\n",
    "# # Xóa các dòng có index tương ứng\n",
    "\n",
    "# df_train.drop(rows_to_drop, inplace=True)"
   ]
  },
  {
   "cell_type": "code",
   "execution_count": 12,
   "id": "47f6c2c5",
   "metadata": {
    "execution": {
     "iopub.execute_input": "2024-05-27T09:57:38.235415Z",
     "iopub.status.busy": "2024-05-27T09:57:38.234997Z",
     "iopub.status.idle": "2024-05-27T09:58:12.908411Z",
     "shell.execute_reply": "2024-05-27T09:58:12.907273Z"
    },
    "papermill": {
     "duration": 34.687628,
     "end_time": "2024-05-27T09:58:12.911466",
     "exception": false,
     "start_time": "2024-05-27T09:57:38.223838",
     "status": "completed"
    },
    "tags": []
   },
   "outputs": [],
   "source": [
    "# Decomment if want to use Pipeline again\n",
    "\n",
    "# Define transformers for numerical and categorical columns\n",
    "numerical_transformer = Pipeline(steps=[\n",
    "    ('imputer', SimpleImputer(strategy='mean')),\n",
    "    ('scaler', StandardScaler())\n",
    "])\n",
    "categorical_transformer = Pipeline(steps=[\n",
    "    ('imputer', SimpleImputer(strategy='constant', fill_value='missing')),\n",
    "    ('onehot', OneHotEncoder(handle_unknown='ignore', sparse = False))\n",
    "])\n",
    "\n",
    "# Add text vectorization step\n",
    "text_vectorizer = TfidfVectorizer(\n",
    "    encoding='utf-8',\n",
    "    ngram_range=(1, 3),\n",
    "    strip_accents='unicode',\n",
    "    analyzer='word',\n",
    "    min_df=0.05,\n",
    "    max_df=0.95,\n",
    "    sublinear_tf=True\n",
    ")\n",
    "text_transformer = Pipeline(steps=[\n",
    "    ('vectorizer', text_vectorizer)\n",
    "])\n",
    "\n",
    "# Update categorical and numerical columns\n",
    "numerical_columns = df_train.select_dtypes('int64').columns\n",
    "categorical_columns = df_train.select_dtypes('object').columns\n",
    "\n",
    "# Remove target variable from numerical columns\n",
    "numerical_columns = numerical_columns.drop('score')\n",
    "\n",
    "# Combine transformers using ColumnTransformer\n",
    "\n",
    "preprocessor = ColumnTransformer(\n",
    "    transformers=[\n",
    "        ('num', numerical_transformer, numerical_columns),\n",
    "        ('cat', categorical_transformer, categorical_columns),\n",
    "        ('text', text_transformer, 'clean_text')  # Include the 'clean_text' column\n",
    "    ],remainder = 'passthrough')\n",
    "\n",
    "# Create a pipeline with the preprocessor\n",
    "pipeline = Pipeline(steps=[\n",
    "    ('preprocessor', preprocessor)])\n",
    "\n",
    "# Apply the pipeline to your dataset\n",
    "X = df_train.drop('score', axis=1)\n",
    "y = np.log(df_train['score']) #normalize dependent variable \n",
    "X_preprocessed = pipeline.fit_transform(X)"
   ]
  },
  {
   "cell_type": "code",
   "execution_count": 13,
   "id": "4c56bcb4",
   "metadata": {
    "execution": {
     "iopub.execute_input": "2024-05-27T09:58:12.933326Z",
     "iopub.status.busy": "2024-05-27T09:58:12.932141Z",
     "iopub.status.idle": "2024-05-27T09:58:12.938540Z",
     "shell.execute_reply": "2024-05-27T09:58:12.937257Z"
    },
    "papermill": {
     "duration": 0.020058,
     "end_time": "2024-05-27T09:58:12.941322",
     "exception": false,
     "start_time": "2024-05-27T09:58:12.921264",
     "status": "completed"
    },
    "tags": []
   },
   "outputs": [],
   "source": [
    "# vectorizer = TfidfVectorizer(\n",
    "#     encoding='utf-8',\n",
    "#     ngram_range=(1, 3),\n",
    "#     strip_accents='unicode',\n",
    "#     analyzer='word',\n",
    "#     min_df=0.05,\n",
    "#     max_df=0.95,\n",
    "#     sublinear_tf=True\n",
    "# )\n",
    "\n",
    "# train_vectorized = pd.DataFrame(\n",
    "#     vectorizer.fit_transform(df_train['full_text']).toarray(),\n",
    "#     columns=[f\"tfidf_{str(f)}\" for f in vectorizer.get_feature_names_out()],\n",
    "# )\n",
    "\n",
    "# train_vectorized.head()"
   ]
  },
  {
   "cell_type": "code",
   "execution_count": 14,
   "id": "781afa04",
   "metadata": {
    "execution": {
     "iopub.execute_input": "2024-05-27T09:58:12.963137Z",
     "iopub.status.busy": "2024-05-27T09:58:12.962473Z",
     "iopub.status.idle": "2024-05-27T09:58:12.966789Z",
     "shell.execute_reply": "2024-05-27T09:58:12.966007Z"
    },
    "papermill": {
     "duration": 0.017971,
     "end_time": "2024-05-27T09:58:12.968960",
     "exception": false,
     "start_time": "2024-05-27T09:58:12.950989",
     "status": "completed"
    },
    "tags": []
   },
   "outputs": [],
   "source": [
    "# X = pd.concat([df_train, train_vectorized], axis=1).drop(columns=[\"full_text\", \"score\", 'clean_text'], axis=1)\n",
    "# y = df_train[\"score\"]"
   ]
  },
  {
   "cell_type": "code",
   "execution_count": 15,
   "id": "ec647bf1",
   "metadata": {
    "execution": {
     "iopub.execute_input": "2024-05-27T09:58:12.990026Z",
     "iopub.status.busy": "2024-05-27T09:58:12.989356Z",
     "iopub.status.idle": "2024-05-27T09:58:14.013986Z",
     "shell.execute_reply": "2024-05-27T09:58:14.012734Z"
    },
    "papermill": {
     "duration": 1.038583,
     "end_time": "2024-05-27T09:58:14.017034",
     "exception": false,
     "start_time": "2024-05-27T09:58:12.978451",
     "status": "completed"
    },
    "tags": []
   },
   "outputs": [],
   "source": [
    "# Split data into train and test sets\n",
    "X_train, X_test, y_train, y_test = train_test_split(X_preprocessed, y, \n",
    "                                                    test_size=0.2, random_state=42)\n",
    "# Use for vectorize\n",
    "# X_train, X_test, y_train, y_test = train_test_split(X, y, \n",
    "#                                                     test_size=0.2, random_state=42)"
   ]
  },
  {
   "cell_type": "code",
   "execution_count": 16,
   "id": "087b164b",
   "metadata": {
    "execution": {
     "iopub.execute_input": "2024-05-27T09:58:14.038499Z",
     "iopub.status.busy": "2024-05-27T09:58:14.037924Z",
     "iopub.status.idle": "2024-05-27T09:58:14.048342Z",
     "shell.execute_reply": "2024-05-27T09:58:14.046951Z"
    },
    "papermill": {
     "duration": 0.023759,
     "end_time": "2024-05-27T09:58:14.050645",
     "exception": false,
     "start_time": "2024-05-27T09:58:14.026886",
     "status": "completed"
    },
    "tags": []
   },
   "outputs": [],
   "source": [
    "# idea from https://www.kaggle.com/code/rsakata/optimize-qwk-by-lgb/notebook#QWK-objective\n",
    "def quadratic_weighted_kappa(y_true, y_pred):\n",
    "    if isinstance(y_pred, xgb.QuantileDMatrix):\n",
    "        # XGB\n",
    "        y_true, y_pred = y_pred, y_true\n",
    "\n",
    "        y_true = (y_true.get_label() + a).round()\n",
    "        y_pred = (y_pred + a).clip(1, 6).round()\n",
    "        qwk = cohen_kappa_score(y_true, y_pred, weights=\"quadratic\")\n",
    "        return 'QWK', qwk\n",
    "\n",
    "def qwk_obj(y_true, y_pred):\n",
    "    labels = y_true + a\n",
    "    preds = y_pred + a\n",
    "    preds = preds.clip(1, 6)\n",
    "    f = 1/2*np.sum((preds-labels)**2)\n",
    "    g = 1/2*np.sum((preds-a)**2+b)\n",
    "    df = preds - labels\n",
    "    dg = preds - a\n",
    "    grad = (df/g - f*dg/g**2)*len(labels)\n",
    "    hess = np.ones(len(labels))\n",
    "    return grad, hess\n",
    "a = 2.998\n",
    "b = 1.092"
   ]
  },
  {
   "cell_type": "code",
   "execution_count": 17,
   "id": "173bda85",
   "metadata": {
    "execution": {
     "iopub.execute_input": "2024-05-27T09:58:14.072515Z",
     "iopub.status.busy": "2024-05-27T09:58:14.071484Z",
     "iopub.status.idle": "2024-05-27T09:58:14.077287Z",
     "shell.execute_reply": "2024-05-27T09:58:14.076296Z"
    },
    "papermill": {
     "duration": 0.019664,
     "end_time": "2024-05-27T09:58:14.079886",
     "exception": false,
     "start_time": "2024-05-27T09:58:14.060222",
     "status": "completed"
    },
    "tags": []
   },
   "outputs": [],
   "source": [
    "# f1_scores = []\n",
    "# kappa_scores = []\n",
    "# predictions = []\n",
    "# # Define the models\n",
    "# models = {\n",
    "#     'XGBoost': XGBRegressor(random_state=42)\n",
    "# }\n",
    "\n",
    "# # Define the hyperparameter grids for each model\n",
    "# param_grids = {\n",
    "#     'XGBoost': {\n",
    "#         'n_estimators': [1024],\n",
    "#         'learning_rate': [0.1],\n",
    "#         'max_depth': [8],\n",
    "#         'subsample': [0.5],\n",
    "# #         'colsample_bytree': [0.5]\n",
    "#     }\n",
    "# }\n",
    "\n",
    "# # 3-fold cross-validation\n",
    "# cv = KFold(n_splits=3, shuffle=True, random_state=42)\n",
    "\n",
    "# # Train and tune the models\n",
    "# grids = {}\n",
    "# for model_name, model in models.items():\n",
    "#     grids[model_name] = GridSearchCV(estimator=model, param_grid=param_grids[model_name], cv=cv, scoring='neg_mean_squared_error', n_jobs=-1, verbose=2)\n",
    "#     grids[model_name].fit(X_train, y_train, eval_metric=quadratic_weighted_kappa)\n",
    "#     best_params = grids[model_name].best_params_\n",
    "#     best_score = np.sqrt(-1 * grids[model_name].best_score_)\n",
    "    \n",
    "#     print(f'Best parameters for {model_name}: {best_params}')\n",
    "#     print(f'Best RMSE for {model_name}: {best_score}\\n')"
   ]
  },
  {
   "cell_type": "code",
   "execution_count": 18,
   "id": "f9039f03",
   "metadata": {
    "execution": {
     "iopub.execute_input": "2024-05-27T09:58:14.102482Z",
     "iopub.status.busy": "2024-05-27T09:58:14.102048Z",
     "iopub.status.idle": "2024-05-27T09:58:14.108051Z",
     "shell.execute_reply": "2024-05-27T09:58:14.106768Z"
    },
    "papermill": {
     "duration": 0.020349,
     "end_time": "2024-05-27T09:58:14.110412",
     "exception": false,
     "start_time": "2024-05-27T09:58:14.090063",
     "status": "completed"
    },
    "tags": []
   },
   "outputs": [],
   "source": [
    "# # Khởi tạo danh sách để lưu trữ kết quả\n",
    "# kappa_scores = []\n",
    "# predictions = []\n",
    "\n",
    "# # Khởi tạo mô hình với các siêu tham số cố định\n",
    "# model = XGBRegressor(\n",
    "#     n_estimators=1024,\n",
    "#     learning_rate=0.1,\n",
    "#     max_depth=8,\n",
    "#     subsample=0.5,\n",
    "#     random_state=42\n",
    "# )\n",
    "\n",
    "# # 3-fold cross-validation\n",
    "# cv = KFold(n_splits=3, shuffle=True, random_state=42)\n",
    "\n",
    "# # Huấn luyện và đánh giá mô hình\n",
    "# for train_index, test_index in cv.split(X_train):\n",
    "#     X_train_fold, X_test_fold = X_train.iloc[train_index], X_train.iloc[test_index]\n",
    "#     y_train_fold, y_test_fold = y_train.iloc[train_index], y_train.iloc[test_index]\n",
    "    \n",
    "#     # Huấn luyện mô hình\n",
    "#     model.fit(X_train_fold, y_train_fold)\n",
    "    \n",
    "#     # Dự đoán trên tập kiểm tra\n",
    "#     y_pred = model.predict(X_test_fold)\n",
    "    \n",
    "#     # Tính toán điểm Kappa\n",
    "#     kappa = quadratic_weighted_kappa(y_test_fold, y_pred)\n",
    "#     kappa_scores.append(kappa)\n",
    "    \n",
    "#     # Lưu trữ dự đoán\n",
    "#     predictions.extend(y_pred)\n",
    "    \n",
    "#     print(f'Kappa score for this fold: {kappa}')\n",
    "\n",
    "# # In kết quả cuối cùng\n",
    "# print(f'Average Kappa score: {np.mean(kappa_scores)}')"
   ]
  },
  {
   "cell_type": "code",
   "execution_count": 19,
   "id": "d5fa249c",
   "metadata": {
    "execution": {
     "iopub.execute_input": "2024-05-27T09:58:14.133603Z",
     "iopub.status.busy": "2024-05-27T09:58:14.133188Z",
     "iopub.status.idle": "2024-05-27T10:33:39.871760Z",
     "shell.execute_reply": "2024-05-27T10:33:39.870321Z"
    },
    "papermill": {
     "duration": 2125.76225,
     "end_time": "2024-05-27T10:33:39.884021",
     "exception": false,
     "start_time": "2024-05-27T09:58:14.121771",
     "status": "completed"
    },
    "tags": []
   },
   "outputs": [
    {
     "name": "stdout",
     "output_type": "stream",
     "text": [
      "Start running...\n",
      "Validation QWK Score: 0.0846\n"
     ]
    }
   ],
   "source": [
    "print(\"Start running...\")\n",
    "xgb_regressor = xgb.XGBRegressor(\n",
    "    objective=qwk_obj,  # Use custom QWK objective function\n",
    "    n_estimators=1024,\n",
    "    learning_rate=0.1,\n",
    "    max_depth=8,\n",
    "    subsample=0.5,\n",
    "    random_state=42\n",
    ")\n",
    "\n",
    "# Train the model\n",
    "xgb_regressor.fit(X_train, y_train)\n",
    "\n",
    "# Make predictions on the validation set\n",
    "y_val_pred = xgb_regressor.predict(X_test)\n",
    "\n",
    "# Convert predictions back to the original scale\n",
    "y_val_pred_original = np.exp(y_val_pred)\n",
    "\n",
    "# Calculate QWK on the validation set\n",
    "qwk_score = cohen_kappa_score(y_test.round(), y_val_pred_original.round(), weights=\"quadratic\")\n",
    "print(f\"Validation QWK Score: {qwk_score:.4f}\")"
   ]
  },
  {
   "cell_type": "code",
   "execution_count": 20,
   "id": "9579ba55",
   "metadata": {
    "execution": {
     "iopub.execute_input": "2024-05-27T10:33:39.906625Z",
     "iopub.status.busy": "2024-05-27T10:33:39.905390Z",
     "iopub.status.idle": "2024-05-27T10:33:39.969959Z",
     "shell.execute_reply": "2024-05-27T10:33:39.968903Z"
    },
    "papermill": {
     "duration": 0.079109,
     "end_time": "2024-05-27T10:33:39.972909",
     "exception": false,
     "start_time": "2024-05-27T10:33:39.893800",
     "status": "completed"
    },
    "tags": []
   },
   "outputs": [
    {
     "data": {
      "text/html": [
       "<div>\n",
       "<style scoped>\n",
       "    .dataframe tbody tr th:only-of-type {\n",
       "        vertical-align: middle;\n",
       "    }\n",
       "\n",
       "    .dataframe tbody tr th {\n",
       "        vertical-align: top;\n",
       "    }\n",
       "\n",
       "    .dataframe thead th {\n",
       "        text-align: right;\n",
       "    }\n",
       "</style>\n",
       "<table border=\"1\" class=\"dataframe\">\n",
       "  <thead>\n",
       "    <tr style=\"text-align: right;\">\n",
       "      <th></th>\n",
       "      <th>essay_id</th>\n",
       "      <th>word_count</th>\n",
       "      <th>essay_length</th>\n",
       "      <th>sentences_count</th>\n",
       "      <th>paragraph_count</th>\n",
       "      <th>unique_word_count</th>\n",
       "      <th>text_length_p</th>\n",
       "      <th>word_count_p</th>\n",
       "      <th>unique_word_count_p</th>\n",
       "      <th>clean_text</th>\n",
       "    </tr>\n",
       "  </thead>\n",
       "  <tbody>\n",
       "    <tr>\n",
       "      <th>0</th>\n",
       "      <td>000d118</td>\n",
       "      <td>545</td>\n",
       "      <td>2677</td>\n",
       "      <td>13</td>\n",
       "      <td>1</td>\n",
       "      <td>248</td>\n",
       "      <td>2640</td>\n",
       "      <td>539</td>\n",
       "      <td>227</td>\n",
       "      <td>many people have car where they live the thing...</td>\n",
       "    </tr>\n",
       "    <tr>\n",
       "      <th>1</th>\n",
       "      <td>000fe60</td>\n",
       "      <td>371</td>\n",
       "      <td>1669</td>\n",
       "      <td>19</td>\n",
       "      <td>9</td>\n",
       "      <td>168</td>\n",
       "      <td>1663</td>\n",
       "      <td>371</td>\n",
       "      <td>152</td>\n",
       "      <td>i am a scientist at nasa that is discussing th...</td>\n",
       "    </tr>\n",
       "    <tr>\n",
       "      <th>2</th>\n",
       "      <td>001ab80</td>\n",
       "      <td>605</td>\n",
       "      <td>3077</td>\n",
       "      <td>24</td>\n",
       "      <td>7</td>\n",
       "      <td>243</td>\n",
       "      <td>3065</td>\n",
       "      <td>605</td>\n",
       "      <td>231</td>\n",
       "      <td>people always wish they had the same technolog...</td>\n",
       "    </tr>\n",
       "  </tbody>\n",
       "</table>\n",
       "</div>"
      ],
      "text/plain": [
       "  essay_id  word_count  essay_length  sentences_count  paragraph_count  \\\n",
       "0  000d118         545          2677               13                1   \n",
       "1  000fe60         371          1669               19                9   \n",
       "2  001ab80         605          3077               24                7   \n",
       "\n",
       "   unique_word_count  text_length_p  word_count_p  unique_word_count_p  \\\n",
       "0                248           2640           539                  227   \n",
       "1                168           1663           371                  152   \n",
       "2                243           3065           605                  231   \n",
       "\n",
       "                                          clean_text  \n",
       "0  many people have car where they live the thing...  \n",
       "1  i am a scientist at nasa that is discussing th...  \n",
       "2  people always wish they had the same technolog...  "
      ]
     },
     "execution_count": 20,
     "metadata": {},
     "output_type": "execute_result"
    }
   ],
   "source": [
    "# df_test = pd.read_csv('/kaggle/input/test-processed-csv/test_processed.csv')\n",
    "# df_test\n",
    "\n",
    "df_test = preprocess_df(df_test)\n",
    "df_test['clean_text'] = df_test['full_text'].apply(clean_text)\n",
    "df_test = df_test.drop('full_text', axis = 1)\n",
    "df_test.head()"
   ]
  },
  {
   "cell_type": "code",
   "execution_count": 21,
   "id": "751bc362",
   "metadata": {
    "execution": {
     "iopub.execute_input": "2024-05-27T10:33:39.996020Z",
     "iopub.status.busy": "2024-05-27T10:33:39.995585Z",
     "iopub.status.idle": "2024-05-27T10:33:40.000463Z",
     "shell.execute_reply": "2024-05-27T10:33:39.999516Z"
    },
    "papermill": {
     "duration": 0.018687,
     "end_time": "2024-05-27T10:33:40.002689",
     "exception": false,
     "start_time": "2024-05-27T10:33:39.984002",
     "status": "completed"
    },
    "tags": []
   },
   "outputs": [],
   "source": [
    "# # Lấy mô hình tốt nhất\n",
    "# best_model = grids['XGBoost'].best_estimator_\n",
    "# best_model"
   ]
  },
  {
   "cell_type": "code",
   "execution_count": 22,
   "id": "8303dd2d",
   "metadata": {
    "execution": {
     "iopub.execute_input": "2024-05-27T10:33:40.024925Z",
     "iopub.status.busy": "2024-05-27T10:33:40.024530Z",
     "iopub.status.idle": "2024-05-27T10:33:40.184210Z",
     "shell.execute_reply": "2024-05-27T10:33:40.183208Z"
    },
    "papermill": {
     "duration": 0.174691,
     "end_time": "2024-05-27T10:33:40.187552",
     "exception": false,
     "start_time": "2024-05-27T10:33:40.012861",
     "status": "completed"
    },
    "tags": []
   },
   "outputs": [],
   "source": [
    "# Lưu lại cột essay_id để sử dụng sau này\n",
    "essay_ids = df_test['essay_id']\n",
    "\n",
    "# Xóa cột essay_id trước khi tiền xử lý\n",
    "X_test = df_test.drop('essay_id', axis=1)\n",
    "\n",
    "# Áp dụng pipeline đã huấn luyện để tiền xử lý dữ liệu test\n",
    "X_test_preprocessed = pipeline.transform(X_test)\n",
    "\n",
    "# Dự đoán điểm số trên dữ liệu test đã tiền xử lý\n",
    "y_pred_log = xgb_regressor.predict(X_test_preprocessed)\n",
    "# Chuyển đổi ngược từ log-transform\n",
    "y_pred = np.exp(y_pred_log)\n",
    "\n",
    "# Tạo dataframe chứa essay_id và dự đoán điểm số\n",
    "results = pd.DataFrame({'essay_id': essay_ids, 'score': y_pred})\n",
    "\n",
    "# Làm tròn điểm số\n",
    "results['score'] = round(results['score'])\n",
    "results['score'] = results['score'].astype(int)\n",
    "\n",
    "# Lưu kết quả ra file csv\n",
    "submission = results.to_csv('submission.csv', index=False)"
   ]
  },
  {
   "cell_type": "code",
   "execution_count": 23,
   "id": "81a3c29f",
   "metadata": {
    "execution": {
     "iopub.execute_input": "2024-05-27T10:33:40.210811Z",
     "iopub.status.busy": "2024-05-27T10:33:40.210432Z",
     "iopub.status.idle": "2024-05-27T10:33:40.220044Z",
     "shell.execute_reply": "2024-05-27T10:33:40.219003Z"
    },
    "papermill": {
     "duration": 0.023789,
     "end_time": "2024-05-27T10:33:40.222429",
     "exception": false,
     "start_time": "2024-05-27T10:33:40.198640",
     "status": "completed"
    },
    "tags": []
   },
   "outputs": [
    {
     "data": {
      "text/html": [
       "<div>\n",
       "<style scoped>\n",
       "    .dataframe tbody tr th:only-of-type {\n",
       "        vertical-align: middle;\n",
       "    }\n",
       "\n",
       "    .dataframe tbody tr th {\n",
       "        vertical-align: top;\n",
       "    }\n",
       "\n",
       "    .dataframe thead th {\n",
       "        text-align: right;\n",
       "    }\n",
       "</style>\n",
       "<table border=\"1\" class=\"dataframe\">\n",
       "  <thead>\n",
       "    <tr style=\"text-align: right;\">\n",
       "      <th></th>\n",
       "      <th>essay_id</th>\n",
       "      <th>score</th>\n",
       "    </tr>\n",
       "  </thead>\n",
       "  <tbody>\n",
       "    <tr>\n",
       "      <th>0</th>\n",
       "      <td>000d118</td>\n",
       "      <td>2</td>\n",
       "    </tr>\n",
       "    <tr>\n",
       "      <th>1</th>\n",
       "      <td>000fe60</td>\n",
       "      <td>3</td>\n",
       "    </tr>\n",
       "    <tr>\n",
       "      <th>2</th>\n",
       "      <td>001ab80</td>\n",
       "      <td>4</td>\n",
       "    </tr>\n",
       "  </tbody>\n",
       "</table>\n",
       "</div>"
      ],
      "text/plain": [
       "  essay_id  score\n",
       "0  000d118      2\n",
       "1  000fe60      3\n",
       "2  001ab80      4"
      ]
     },
     "execution_count": 23,
     "metadata": {},
     "output_type": "execute_result"
    }
   ],
   "source": [
    "results"
   ]
  },
  {
   "cell_type": "code",
   "execution_count": null,
   "id": "1b90d6cb",
   "metadata": {
    "papermill": {
     "duration": 0.01003,
     "end_time": "2024-05-27T10:33:40.242703",
     "exception": false,
     "start_time": "2024-05-27T10:33:40.232673",
     "status": "completed"
    },
    "tags": []
   },
   "outputs": [],
   "source": []
  }
 ],
 "metadata": {
  "kaggle": {
   "accelerator": "none",
   "dataSources": [
    {
     "databundleVersionId": 8059942,
     "sourceId": 71485,
     "sourceType": "competition"
    }
   ],
   "dockerImageVersionId": 30698,
   "isGpuEnabled": false,
   "isInternetEnabled": false,
   "language": "python",
   "sourceType": "notebook"
  },
  "kernelspec": {
   "display_name": "Python 3",
   "language": "python",
   "name": "python3"
  },
  "language_info": {
   "codemirror_mode": {
    "name": "ipython",
    "version": 3
   },
   "file_extension": ".py",
   "mimetype": "text/x-python",
   "name": "python",
   "nbconvert_exporter": "python",
   "pygments_lexer": "ipython3",
   "version": "3.10.13"
  },
  "papermill": {
   "default_parameters": {},
   "duration": 2372.787287,
   "end_time": "2024-05-27T10:33:42.979071",
   "environment_variables": {},
   "exception": null,
   "input_path": "__notebook__.ipynb",
   "output_path": "__notebook__.ipynb",
   "parameters": {},
   "start_time": "2024-05-27T09:54:10.191784",
   "version": "2.5.0"
  }
 },
 "nbformat": 4,
 "nbformat_minor": 5
}
